{
 "cells": [
  {
   "cell_type": "code",
   "execution_count": 2,
   "id": "6398d65c",
   "metadata": {
    "id": "6398d65c"
   },
   "outputs": [],
   "source": [
    "#import necessary libraries\n",
    "import numpy as np\n",
    "import pandas as pd\n",
    "import seaborn as sns\n",
    "import matplotlib.pyplot as plt\n",
    "import joblib\n",
    "import warnings\n",
    "#warnings.filterwarnings('ignore')"
   ]
  },
  {
   "cell_type": "code",
   "execution_count": 11,
   "id": "f5130e7e",
   "metadata": {
    "id": "f5130e7e"
   },
   "outputs": [],
   "source": [
    "#set path to project folder\n",
    "import sys\n",
    "sys.path.append('C:/Users/saumy/OneDrive/Desktop/Semester-3/AdvMLA/AdvMLA_AT2')"
   ]
  },
  {
   "cell_type": "code",
   "execution_count": 3,
   "id": "5bed5756",
   "metadata": {
    "id": "5bed5756"
   },
   "outputs": [],
   "source": [
    "# Import the required functions or classes from the module\n",
    "from src.data.datapreprocess import DataProcessor\n",
    "\n",
    "# Create an instance of the DataProcessor class\n",
    "data_processor = DataProcessor()\n"
   ]
  },
  {
   "cell_type": "code",
   "execution_count": 4,
   "id": "2a838ce2",
   "metadata": {},
   "outputs": [],
   "source": [
    "# Load the data\n",
    "sales_data = pd.read_csv('C:/Users/saumy/OneDrive/Desktop/Semester-3/AdvMLA/AdvMLA_AT2/data/raw/sales_train.csv')\n",
    "\n",
    "price_data = pd.read_csv('C:/Users/saumy/OneDrive/Desktop/Semester-3/AdvMLA/AdvMLA_AT2/data/raw/items_weekly_sell_prices.csv')\n",
    "\n",
    "dates_data =  pd.read_csv('C:/Users/saumy/OneDrive/Desktop/Semester-3/AdvMLA/AdvMLA_AT2/data/raw/calendar.csv')\n",
    "\n",
    "events_data = pd.read_csv('C:/Users/saumy/OneDrive/Desktop/Semester-3/AdvMLA/AdvMLA_AT2/data/raw/calendar_events.csv')\n"
   ]
  },
  {
   "cell_type": "code",
   "execution_count": 5,
   "id": "632087e8",
   "metadata": {},
   "outputs": [
    {
     "name": "stdout",
     "output_type": "stream",
     "text": [
      "First 5 rows:\n",
      "                              id        item_id    dept_id   cat_id store_id  \\\n",
      "0  HOBBIES_1_001_CA_1_evaluation  HOBBIES_1_001  HOBBIES_1  HOBBIES     CA_1   \n",
      "1  HOBBIES_1_002_CA_1_evaluation  HOBBIES_1_002  HOBBIES_1  HOBBIES     CA_1   \n",
      "2  HOBBIES_1_003_CA_1_evaluation  HOBBIES_1_003  HOBBIES_1  HOBBIES     CA_1   \n",
      "3  HOBBIES_1_004_CA_1_evaluation  HOBBIES_1_004  HOBBIES_1  HOBBIES     CA_1   \n",
      "4  HOBBIES_1_005_CA_1_evaluation  HOBBIES_1_005  HOBBIES_1  HOBBIES     CA_1   \n",
      "\n",
      "  state_id  d_1  d_2  d_3  d_4  ...  d_1532  d_1533  d_1534  d_1535  d_1536  \\\n",
      "0       CA    0    0    0    0  ...       1       1       1       0       1   \n",
      "1       CA    0    0    0    0  ...       0       0       0       0       0   \n",
      "2       CA    0    0    0    0  ...       0       0       1       0       0   \n",
      "3       CA    0    0    0    0  ...       8       2       0       8       2   \n",
      "4       CA    0    0    0    0  ...       2       0       1       3       2   \n",
      "\n",
      "   d_1537  d_1538  d_1539  d_1540  d_1541  \n",
      "0       0       1       0       0       1  \n",
      "1       0       0       0       1       0  \n",
      "2       0       0       0       0       0  \n",
      "3       3       1       1       3       8  \n",
      "4       1       1       2       2       3  \n",
      "\n",
      "[5 rows x 1547 columns]\n",
      "\n",
      "Last 5 rows:\n",
      "                                id      item_id  dept_id cat_id store_id  \\\n",
      "30485  FOODS_3_823_WI_3_evaluation  FOODS_3_823  FOODS_3  FOODS     WI_3   \n",
      "30486  FOODS_3_824_WI_3_evaluation  FOODS_3_824  FOODS_3  FOODS     WI_3   \n",
      "30487  FOODS_3_825_WI_3_evaluation  FOODS_3_825  FOODS_3  FOODS     WI_3   \n",
      "30488  FOODS_3_826_WI_3_evaluation  FOODS_3_826  FOODS_3  FOODS     WI_3   \n",
      "30489  FOODS_3_827_WI_3_evaluation  FOODS_3_827  FOODS_3  FOODS     WI_3   \n",
      "\n",
      "      state_id  d_1  d_2  d_3  d_4  ...  d_1532  d_1533  d_1534  d_1535  \\\n",
      "30485       WI    0    0    2    2  ...       1       2       0       0   \n",
      "30486       WI    0    0    0    0  ...       0       0       0       0   \n",
      "30487       WI    0    6    0    2  ...       1       0       3       2   \n",
      "30488       WI    0    0    0    0  ...       0       0       0       0   \n",
      "30489       WI    0    0    0    0  ...       2       2       4       3   \n",
      "\n",
      "       d_1536  d_1537  d_1538  d_1539  d_1540  d_1541  \n",
      "30485       0       1       0       0       0       2  \n",
      "30486       0       0      12       0       0       0  \n",
      "30487       1       1       0       1       3       0  \n",
      "30488       0       0       0       0       0       0  \n",
      "30489       0       3       0       4       0       3  \n",
      "\n",
      "[5 rows x 1547 columns]\n",
      "\n",
      "Descriptive statistics:\n",
      "                d_1           d_2           d_3           d_4           d_5  \\\n",
      "count  30490.000000  30490.000000  30490.000000  30490.000000  30490.000000   \n",
      "mean       1.070220      1.041292      0.780026      0.833454      0.627944   \n",
      "std        5.126689      5.365468      3.667454      4.415141      3.379344   \n",
      "min        0.000000      0.000000      0.000000      0.000000      0.000000   \n",
      "25%        0.000000      0.000000      0.000000      0.000000      0.000000   \n",
      "50%        0.000000      0.000000      0.000000      0.000000      0.000000   \n",
      "75%        0.000000      0.000000      0.000000      0.000000      0.000000   \n",
      "max      360.000000    436.000000    207.000000    323.000000    296.000000   \n",
      "\n",
      "                d_6           d_7           d_8           d_9          d_10  \\\n",
      "count  30490.000000  30490.000000  30490.000000  30490.000000  30490.000000   \n",
      "mean       0.958052      0.918662      1.244080      1.073663      0.838701   \n",
      "std        4.785947      5.059495      6.617729      5.917204      4.206199   \n",
      "min        0.000000      0.000000      0.000000      0.000000      0.000000   \n",
      "25%        0.000000      0.000000      0.000000      0.000000      0.000000   \n",
      "50%        0.000000      0.000000      0.000000      0.000000      0.000000   \n",
      "75%        0.000000      0.000000      0.000000      0.000000      0.000000   \n",
      "max      314.000000    316.000000    370.000000    385.000000    353.000000   \n",
      "\n",
      "       ...        d_1532        d_1533        d_1534        d_1535  \\\n",
      "count  ...  30490.000000  30490.000000  30490.000000  30490.000000   \n",
      "mean   ...      1.129452      1.208691      1.484815      1.547393   \n",
      "std    ...      3.219694      3.276399      3.964839      4.086634   \n",
      "min    ...      0.000000      0.000000      0.000000      0.000000   \n",
      "25%    ...      0.000000      0.000000      0.000000      0.000000   \n",
      "50%    ...      0.000000      0.000000      0.000000      0.000000   \n",
      "75%    ...      1.000000      1.000000      2.000000      2.000000   \n",
      "max    ...     89.000000    128.000000    116.000000    131.000000   \n",
      "\n",
      "             d_1536        d_1537        d_1538        d_1539        d_1540  \\\n",
      "count  30490.000000  30490.000000  30490.000000  30490.000000  30490.000000   \n",
      "mean       1.131322      1.101902      1.137750      1.030863      1.084257   \n",
      "std        3.035784      3.751499      3.219956      2.957792      3.159583   \n",
      "min        0.000000      0.000000      0.000000      0.000000      0.000000   \n",
      "25%        0.000000      0.000000      0.000000      0.000000      0.000000   \n",
      "50%        0.000000      0.000000      0.000000      0.000000      0.000000   \n",
      "75%        1.000000      1.000000      1.000000      1.000000      1.000000   \n",
      "max       93.000000    299.000000    104.000000    129.000000    161.000000   \n",
      "\n",
      "             d_1541  \n",
      "count  30490.000000  \n",
      "mean       1.394424  \n",
      "std        3.922461  \n",
      "min        0.000000  \n",
      "25%        0.000000  \n",
      "50%        0.000000  \n",
      "75%        1.000000  \n",
      "max      192.000000  \n",
      "\n",
      "[8 rows x 1541 columns]\n",
      "\n",
      "Info:\n",
      "<class 'pandas.core.frame.DataFrame'>\n",
      "RangeIndex: 30490 entries, 0 to 30489\n",
      "Columns: 1547 entries, id to d_1541\n",
      "dtypes: int64(1541), object(6)\n",
      "memory usage: 359.9+ MB\n",
      "None\n",
      "\n",
      "Shape:\n",
      "(30490, 1547)\n"
     ]
    }
   ],
   "source": [
    "#explore the sales_data\n",
    "data_processor.explore_data(sales_data)"
   ]
  },
  {
   "cell_type": "code",
   "execution_count": 6,
   "id": "26b70e8a",
   "metadata": {},
   "outputs": [
    {
     "name": "stdout",
     "output_type": "stream",
     "text": [
      "First 5 rows:\n",
      "  store_id        item_id  wm_yr_wk  sell_price\n",
      "0     CA_1  HOBBIES_1_001     11325        9.58\n",
      "1     CA_1  HOBBIES_1_001     11326        9.58\n",
      "2     CA_1  HOBBIES_1_001     11327        8.26\n",
      "3     CA_1  HOBBIES_1_001     11328        8.26\n",
      "4     CA_1  HOBBIES_1_001     11329        8.26\n",
      "\n",
      "Last 5 rows:\n",
      "        store_id      item_id  wm_yr_wk  sell_price\n",
      "6841116     WI_3  FOODS_3_827     11617         1.0\n",
      "6841117     WI_3  FOODS_3_827     11618         1.0\n",
      "6841118     WI_3  FOODS_3_827     11619         1.0\n",
      "6841119     WI_3  FOODS_3_827     11620         1.0\n",
      "6841120     WI_3  FOODS_3_827     11621         1.0\n",
      "\n",
      "Descriptive statistics:\n",
      "           wm_yr_wk    sell_price\n",
      "count  6.841121e+06  6.841121e+06\n",
      "mean   1.138294e+04  4.410952e+00\n",
      "std    1.486100e+02  3.408814e+00\n",
      "min    1.110100e+04  1.000000e-02\n",
      "25%    1.124700e+04  2.180000e+00\n",
      "50%    1.141100e+04  3.470000e+00\n",
      "75%    1.151700e+04  5.840000e+00\n",
      "max    1.162100e+04  1.073200e+02\n",
      "\n",
      "Info:\n",
      "<class 'pandas.core.frame.DataFrame'>\n",
      "RangeIndex: 6841121 entries, 0 to 6841120\n",
      "Data columns (total 4 columns):\n",
      " #   Column      Dtype  \n",
      "---  ------      -----  \n",
      " 0   store_id    object \n",
      " 1   item_id     object \n",
      " 2   wm_yr_wk    int64  \n",
      " 3   sell_price  float64\n",
      "dtypes: float64(1), int64(1), object(2)\n",
      "memory usage: 208.8+ MB\n",
      "None\n",
      "\n",
      "Shape:\n",
      "(6841121, 4)\n"
     ]
    }
   ],
   "source": [
    "#explore the price_data\n",
    "data_processor.explore_data(price_data)"
   ]
  },
  {
   "cell_type": "code",
   "execution_count": 7,
   "id": "89d82640",
   "metadata": {},
   "outputs": [
    {
     "name": "stdout",
     "output_type": "stream",
     "text": [
      "First 5 rows:\n",
      "         date  wm_yr_wk    d\n",
      "0  2011-01-29     11101  d_1\n",
      "1  2011-01-30     11101  d_2\n",
      "2  2011-01-31     11101  d_3\n",
      "3  2011-02-01     11101  d_4\n",
      "4  2011-02-02     11101  d_5\n",
      "\n",
      "Last 5 rows:\n",
      "            date  wm_yr_wk       d\n",
      "1964  2016-06-15     11620  d_1965\n",
      "1965  2016-06-16     11620  d_1966\n",
      "1966  2016-06-17     11620  d_1967\n",
      "1967  2016-06-18     11621  d_1968\n",
      "1968  2016-06-19     11621  d_1969\n",
      "\n",
      "Descriptive statistics:\n",
      "           wm_yr_wk\n",
      "count   1969.000000\n",
      "mean   11347.086338\n",
      "std      155.277043\n",
      "min    11101.000000\n",
      "25%    11219.000000\n",
      "50%    11337.000000\n",
      "75%    11502.000000\n",
      "max    11621.000000\n",
      "\n",
      "Info:\n",
      "<class 'pandas.core.frame.DataFrame'>\n",
      "RangeIndex: 1969 entries, 0 to 1968\n",
      "Data columns (total 3 columns):\n",
      " #   Column    Non-Null Count  Dtype \n",
      "---  ------    --------------  ----- \n",
      " 0   date      1969 non-null   object\n",
      " 1   wm_yr_wk  1969 non-null   int64 \n",
      " 2   d         1969 non-null   object\n",
      "dtypes: int64(1), object(2)\n",
      "memory usage: 46.3+ KB\n",
      "None\n",
      "\n",
      "Shape:\n",
      "(1969, 3)\n"
     ]
    }
   ],
   "source": [
    "#explore the dates_data\n",
    "data_processor.explore_data(dates_data)"
   ]
  },
  {
   "cell_type": "code",
   "execution_count": 11,
   "id": "83cc0135",
   "metadata": {},
   "outputs": [
    {
     "name": "stdout",
     "output_type": "stream",
     "text": [
      "First 5 rows:\n",
      "         date     event_name event_type\n",
      "0  2011-02-06      SuperBowl   Sporting\n",
      "1  2011-02-14  ValentinesDay   Cultural\n",
      "2  2011-02-21  PresidentsDay   National\n",
      "3  2011-03-09      LentStart  Religious\n",
      "4  2011-03-16      LentWeek2  Religious\n",
      "\n",
      "Last 5 rows:\n",
      "           date      event_name event_type\n",
      "162  2016-05-30     MemorialDay   National\n",
      "163  2016-06-02  NBAFinalsStart   Sporting\n",
      "164  2016-06-07  Ramadan starts  Religious\n",
      "165  2016-06-19    Father's day   Cultural\n",
      "166  2016-06-19    NBAFinalsEnd   Sporting\n",
      "\n",
      "Descriptive statistics:\n",
      "              date event_name event_type\n",
      "count          167        167        167\n",
      "unique         162         30          4\n",
      "top     2016-06-19  SuperBowl  Religious\n",
      "freq             2          6         56\n",
      "\n",
      "Info:\n",
      "<class 'pandas.core.frame.DataFrame'>\n",
      "RangeIndex: 167 entries, 0 to 166\n",
      "Data columns (total 3 columns):\n",
      " #   Column      Non-Null Count  Dtype \n",
      "---  ------      --------------  ----- \n",
      " 0   date        167 non-null    object\n",
      " 1   event_name  167 non-null    object\n",
      " 2   event_type  167 non-null    object\n",
      "dtypes: object(3)\n",
      "memory usage: 4.0+ KB\n",
      "None\n",
      "\n",
      "Shape:\n",
      "(167, 3)\n"
     ]
    }
   ],
   "source": [
    "#explore the events_data\n",
    "data_processor.explore_data(events_data)"
   ]
  },
  {
   "cell_type": "code",
   "execution_count": 14,
   "id": "9a7e3ebe",
   "metadata": {},
   "outputs": [],
   "source": [
    "# Specify the columns to melt from df_stores_train\n",
    " # Select columns having days as d_num\n",
    "dept_sales = sales_data.columns[6:] "
   ]
  },
  {
   "cell_type": "code",
   "execution_count": 15,
   "id": "c6a83bae",
   "metadata": {},
   "outputs": [],
   "source": [
    "sales_data=pd.melt(sales_data, id_vars=['store_id','cat_id', 'item_id'], value_vars= dept_sales,\n",
    "        var_name='Day',value_name='Sales')"
   ]
  },
  {
   "cell_type": "code",
   "execution_count": 16,
   "id": "43bb0dd3",
   "metadata": {},
   "outputs": [
    {
     "name": "stdout",
     "output_type": "stream",
     "text": [
      "<class 'pandas.core.frame.DataFrame'>\n",
      "RangeIndex: 46985090 entries, 0 to 46985089\n",
      "Data columns (total 5 columns):\n",
      " #   Column    Dtype \n",
      "---  ------    ----- \n",
      " 0   store_id  object\n",
      " 1   cat_id    object\n",
      " 2   item_id   object\n",
      " 3   Day       object\n",
      " 4   Sales     int64 \n",
      "dtypes: int64(1), object(4)\n",
      "memory usage: 1.8+ GB\n"
     ]
    }
   ],
   "source": [
    "sales_data.info()"
   ]
  },
  {
   "cell_type": "code",
   "execution_count": 17,
   "id": "a4e95694",
   "metadata": {},
   "outputs": [],
   "source": [
    "# Convert the 'date' column to datetime data type\n",
    "dates_data['date'] = pd.to_datetime(dates_data['date'])\n"
   ]
  },
  {
   "cell_type": "code",
   "execution_count": 19,
   "id": "c8d2f52a",
   "metadata": {},
   "outputs": [],
   "source": [
    "# left join on sales_data and dates_data on column 'Day'\n",
    "df_stores_data = pd.merge(sales_data, dates_data[['d', 'date', 'wm_yr_wk']], left_on='Day', right_on='d', how='left')"
   ]
  },
  {
   "cell_type": "code",
   "execution_count": 20,
   "id": "129fed34",
   "metadata": {},
   "outputs": [],
   "source": [
    "#define cols to drop\n",
    "to_drop = ['d', 'Day']\n",
    "\n",
    "#deleting defined columns\n",
    "df_stores_data.drop(columns=to_drop, axis=1, inplace=True)\n"
   ]
  },
  {
   "cell_type": "code",
   "execution_count": 21,
   "id": "dabc0d98",
   "metadata": {},
   "outputs": [
    {
     "data": {
      "text/html": [
       "<div>\n",
       "<style scoped>\n",
       "    .dataframe tbody tr th:only-of-type {\n",
       "        vertical-align: middle;\n",
       "    }\n",
       "\n",
       "    .dataframe tbody tr th {\n",
       "        vertical-align: top;\n",
       "    }\n",
       "\n",
       "    .dataframe thead th {\n",
       "        text-align: right;\n",
       "    }\n",
       "</style>\n",
       "<table border=\"1\" class=\"dataframe\">\n",
       "  <thead>\n",
       "    <tr style=\"text-align: right;\">\n",
       "      <th></th>\n",
       "      <th>store_id</th>\n",
       "      <th>cat_id</th>\n",
       "      <th>item_id</th>\n",
       "      <th>Sales</th>\n",
       "      <th>date</th>\n",
       "      <th>wm_yr_wk</th>\n",
       "    </tr>\n",
       "  </thead>\n",
       "  <tbody>\n",
       "    <tr>\n",
       "      <th>0</th>\n",
       "      <td>CA_1</td>\n",
       "      <td>HOBBIES</td>\n",
       "      <td>HOBBIES_1_001</td>\n",
       "      <td>0</td>\n",
       "      <td>2011-01-29</td>\n",
       "      <td>11101</td>\n",
       "    </tr>\n",
       "    <tr>\n",
       "      <th>1</th>\n",
       "      <td>CA_1</td>\n",
       "      <td>HOBBIES</td>\n",
       "      <td>HOBBIES_1_002</td>\n",
       "      <td>0</td>\n",
       "      <td>2011-01-29</td>\n",
       "      <td>11101</td>\n",
       "    </tr>\n",
       "    <tr>\n",
       "      <th>2</th>\n",
       "      <td>CA_1</td>\n",
       "      <td>HOBBIES</td>\n",
       "      <td>HOBBIES_1_003</td>\n",
       "      <td>0</td>\n",
       "      <td>2011-01-29</td>\n",
       "      <td>11101</td>\n",
       "    </tr>\n",
       "    <tr>\n",
       "      <th>3</th>\n",
       "      <td>CA_1</td>\n",
       "      <td>HOBBIES</td>\n",
       "      <td>HOBBIES_1_004</td>\n",
       "      <td>0</td>\n",
       "      <td>2011-01-29</td>\n",
       "      <td>11101</td>\n",
       "    </tr>\n",
       "    <tr>\n",
       "      <th>4</th>\n",
       "      <td>CA_1</td>\n",
       "      <td>HOBBIES</td>\n",
       "      <td>HOBBIES_1_005</td>\n",
       "      <td>0</td>\n",
       "      <td>2011-01-29</td>\n",
       "      <td>11101</td>\n",
       "    </tr>\n",
       "  </tbody>\n",
       "</table>\n",
       "</div>"
      ],
      "text/plain": [
       "  store_id   cat_id        item_id  Sales       date  wm_yr_wk\n",
       "0     CA_1  HOBBIES  HOBBIES_1_001      0 2011-01-29     11101\n",
       "1     CA_1  HOBBIES  HOBBIES_1_002      0 2011-01-29     11101\n",
       "2     CA_1  HOBBIES  HOBBIES_1_003      0 2011-01-29     11101\n",
       "3     CA_1  HOBBIES  HOBBIES_1_004      0 2011-01-29     11101\n",
       "4     CA_1  HOBBIES  HOBBIES_1_005      0 2011-01-29     11101"
      ]
     },
     "execution_count": 21,
     "metadata": {},
     "output_type": "execute_result"
    }
   ],
   "source": [
    "# shows first 5 rows from df_stores_data\n",
    "df_stores_data.head()"
   ]
  },
  {
   "cell_type": "code",
   "execution_count": 27,
   "id": "1e2b1ab7",
   "metadata": {},
   "outputs": [],
   "source": [
    "# Merge df1 and df2 on common columns\n",
    "total= df_stores_data.merge(price_data, on=['store_id', 'item_id', 'wm_yr_wk'], how='left')\n",
    "\n",
    "# Calculate revenue by multiplying Sales and sell_price\n",
    "total['revenue'] = total['Sales'] * total['sell_price']\n",
    "\n",
    "# Group by 'item_id' and 'wm_yr_wk' and aggregate to calculate weekly revenue\n",
    "#result_df = total.groupby(['store_id', 'item_id', 'wm_yr_wk', 'date']).agg({'revenue': 'sum'})"
   ]
  },
  {
   "cell_type": "code",
   "execution_count": 28,
   "id": "bdcea951",
   "metadata": {},
   "outputs": [
    {
     "data": {
      "text/plain": [
       "(46985090, 8)"
      ]
     },
     "execution_count": 28,
     "metadata": {},
     "output_type": "execute_result"
    }
   ],
   "source": [
    "#shape of merged df\n",
    "total.shape"
   ]
  },
  {
   "cell_type": "code",
   "execution_count": 29,
   "id": "3aa9adda",
   "metadata": {},
   "outputs": [
    {
     "data": {
      "text/html": [
       "<div>\n",
       "<style scoped>\n",
       "    .dataframe tbody tr th:only-of-type {\n",
       "        vertical-align: middle;\n",
       "    }\n",
       "\n",
       "    .dataframe tbody tr th {\n",
       "        vertical-align: top;\n",
       "    }\n",
       "\n",
       "    .dataframe thead th {\n",
       "        text-align: right;\n",
       "    }\n",
       "</style>\n",
       "<table border=\"1\" class=\"dataframe\">\n",
       "  <thead>\n",
       "    <tr style=\"text-align: right;\">\n",
       "      <th></th>\n",
       "      <th>store_id</th>\n",
       "      <th>cat_id</th>\n",
       "      <th>item_id</th>\n",
       "      <th>Sales</th>\n",
       "      <th>date</th>\n",
       "      <th>wm_yr_wk</th>\n",
       "      <th>sell_price</th>\n",
       "      <th>revenue</th>\n",
       "    </tr>\n",
       "  </thead>\n",
       "  <tbody>\n",
       "    <tr>\n",
       "      <th>0</th>\n",
       "      <td>CA_1</td>\n",
       "      <td>HOBBIES</td>\n",
       "      <td>HOBBIES_1_001</td>\n",
       "      <td>0</td>\n",
       "      <td>2011-01-29</td>\n",
       "      <td>11101</td>\n",
       "      <td>NaN</td>\n",
       "      <td>NaN</td>\n",
       "    </tr>\n",
       "    <tr>\n",
       "      <th>1</th>\n",
       "      <td>CA_1</td>\n",
       "      <td>HOBBIES</td>\n",
       "      <td>HOBBIES_1_002</td>\n",
       "      <td>0</td>\n",
       "      <td>2011-01-29</td>\n",
       "      <td>11101</td>\n",
       "      <td>NaN</td>\n",
       "      <td>NaN</td>\n",
       "    </tr>\n",
       "    <tr>\n",
       "      <th>2</th>\n",
       "      <td>CA_1</td>\n",
       "      <td>HOBBIES</td>\n",
       "      <td>HOBBIES_1_003</td>\n",
       "      <td>0</td>\n",
       "      <td>2011-01-29</td>\n",
       "      <td>11101</td>\n",
       "      <td>NaN</td>\n",
       "      <td>NaN</td>\n",
       "    </tr>\n",
       "    <tr>\n",
       "      <th>3</th>\n",
       "      <td>CA_1</td>\n",
       "      <td>HOBBIES</td>\n",
       "      <td>HOBBIES_1_004</td>\n",
       "      <td>0</td>\n",
       "      <td>2011-01-29</td>\n",
       "      <td>11101</td>\n",
       "      <td>NaN</td>\n",
       "      <td>NaN</td>\n",
       "    </tr>\n",
       "    <tr>\n",
       "      <th>4</th>\n",
       "      <td>CA_1</td>\n",
       "      <td>HOBBIES</td>\n",
       "      <td>HOBBIES_1_005</td>\n",
       "      <td>0</td>\n",
       "      <td>2011-01-29</td>\n",
       "      <td>11101</td>\n",
       "      <td>NaN</td>\n",
       "      <td>NaN</td>\n",
       "    </tr>\n",
       "  </tbody>\n",
       "</table>\n",
       "</div>"
      ],
      "text/plain": [
       "  store_id   cat_id        item_id  Sales       date  wm_yr_wk  sell_price  \\\n",
       "0     CA_1  HOBBIES  HOBBIES_1_001      0 2011-01-29     11101         NaN   \n",
       "1     CA_1  HOBBIES  HOBBIES_1_002      0 2011-01-29     11101         NaN   \n",
       "2     CA_1  HOBBIES  HOBBIES_1_003      0 2011-01-29     11101         NaN   \n",
       "3     CA_1  HOBBIES  HOBBIES_1_004      0 2011-01-29     11101         NaN   \n",
       "4     CA_1  HOBBIES  HOBBIES_1_005      0 2011-01-29     11101         NaN   \n",
       "\n",
       "   revenue  \n",
       "0      NaN  \n",
       "1      NaN  \n",
       "2      NaN  \n",
       "3      NaN  \n",
       "4      NaN  "
      ]
     },
     "execution_count": 29,
     "metadata": {},
     "output_type": "execute_result"
    }
   ],
   "source": [
    "# shows 1st five rows from total\n",
    "total.head()"
   ]
  },
  {
   "cell_type": "code",
   "execution_count": 30,
   "id": "f8f50da1",
   "metadata": {},
   "outputs": [],
   "source": [
    "df_total = total.copy()"
   ]
  },
  {
   "cell_type": "code",
   "execution_count": 31,
   "id": "962f52b9",
   "metadata": {
    "scrolled": true
   },
   "outputs": [
    {
     "name": "stdout",
     "output_type": "stream",
     "text": [
      "<class 'pandas.core.frame.DataFrame'>\n",
      "Int64Index: 46985090 entries, 0 to 46985089\n",
      "Data columns (total 8 columns):\n",
      " #   Column      Dtype         \n",
      "---  ------      -----         \n",
      " 0   store_id    object        \n",
      " 1   cat_id      object        \n",
      " 2   item_id     object        \n",
      " 3   Sales       int64         \n",
      " 4   date        datetime64[ns]\n",
      " 5   wm_yr_wk    int64         \n",
      " 6   sell_price  float64       \n",
      " 7   revenue     float64       \n",
      "dtypes: datetime64[ns](1), float64(2), int64(2), object(3)\n",
      "memory usage: 3.2+ GB\n"
     ]
    }
   ],
   "source": [
    "df_total.info()"
   ]
  },
  {
   "cell_type": "code",
   "execution_count": 32,
   "id": "6d7559da",
   "metadata": {},
   "outputs": [],
   "source": [
    "# Convert 'date' columns to datetime format in both dataframes\n",
    "events_data['date'] = pd.to_datetime(events_data['date'])\n"
   ]
  },
  {
   "cell_type": "code",
   "execution_count": 33,
   "id": "fb527748",
   "metadata": {},
   "outputs": [],
   "source": [
    "# Merge events_df with total_df based on the 'date' column\n",
    "df_final = df_total.merge(events_data, on='date', how='left')\n",
    "\n",
    "# Create a new column 'event' where 'yes' indicates an event and 'no' indicates no event\n",
    "df_final['event'] = df_final['event_name'].apply(lambda x: 'yes' if not pd.isna(x) else 'no')"
   ]
  },
  {
   "cell_type": "code",
   "execution_count": 34,
   "id": "33353323",
   "metadata": {
    "scrolled": true
   },
   "outputs": [
    {
     "data": {
      "text/html": [
       "<div>\n",
       "<style scoped>\n",
       "    .dataframe tbody tr th:only-of-type {\n",
       "        vertical-align: middle;\n",
       "    }\n",
       "\n",
       "    .dataframe tbody tr th {\n",
       "        vertical-align: top;\n",
       "    }\n",
       "\n",
       "    .dataframe thead th {\n",
       "        text-align: right;\n",
       "    }\n",
       "</style>\n",
       "<table border=\"1\" class=\"dataframe\">\n",
       "  <thead>\n",
       "    <tr style=\"text-align: right;\">\n",
       "      <th></th>\n",
       "      <th>store_id</th>\n",
       "      <th>cat_id</th>\n",
       "      <th>item_id</th>\n",
       "      <th>Sales</th>\n",
       "      <th>date</th>\n",
       "      <th>wm_yr_wk</th>\n",
       "      <th>sell_price</th>\n",
       "      <th>revenue</th>\n",
       "      <th>event_name</th>\n",
       "      <th>event_type</th>\n",
       "      <th>event</th>\n",
       "    </tr>\n",
       "  </thead>\n",
       "  <tbody>\n",
       "    <tr>\n",
       "      <th>0</th>\n",
       "      <td>CA_1</td>\n",
       "      <td>HOBBIES</td>\n",
       "      <td>HOBBIES_1_001</td>\n",
       "      <td>0</td>\n",
       "      <td>2011-01-29</td>\n",
       "      <td>11101</td>\n",
       "      <td>NaN</td>\n",
       "      <td>NaN</td>\n",
       "      <td>NaN</td>\n",
       "      <td>NaN</td>\n",
       "      <td>no</td>\n",
       "    </tr>\n",
       "    <tr>\n",
       "      <th>1</th>\n",
       "      <td>CA_1</td>\n",
       "      <td>HOBBIES</td>\n",
       "      <td>HOBBIES_1_002</td>\n",
       "      <td>0</td>\n",
       "      <td>2011-01-29</td>\n",
       "      <td>11101</td>\n",
       "      <td>NaN</td>\n",
       "      <td>NaN</td>\n",
       "      <td>NaN</td>\n",
       "      <td>NaN</td>\n",
       "      <td>no</td>\n",
       "    </tr>\n",
       "    <tr>\n",
       "      <th>2</th>\n",
       "      <td>CA_1</td>\n",
       "      <td>HOBBIES</td>\n",
       "      <td>HOBBIES_1_003</td>\n",
       "      <td>0</td>\n",
       "      <td>2011-01-29</td>\n",
       "      <td>11101</td>\n",
       "      <td>NaN</td>\n",
       "      <td>NaN</td>\n",
       "      <td>NaN</td>\n",
       "      <td>NaN</td>\n",
       "      <td>no</td>\n",
       "    </tr>\n",
       "    <tr>\n",
       "      <th>3</th>\n",
       "      <td>CA_1</td>\n",
       "      <td>HOBBIES</td>\n",
       "      <td>HOBBIES_1_004</td>\n",
       "      <td>0</td>\n",
       "      <td>2011-01-29</td>\n",
       "      <td>11101</td>\n",
       "      <td>NaN</td>\n",
       "      <td>NaN</td>\n",
       "      <td>NaN</td>\n",
       "      <td>NaN</td>\n",
       "      <td>no</td>\n",
       "    </tr>\n",
       "    <tr>\n",
       "      <th>4</th>\n",
       "      <td>CA_1</td>\n",
       "      <td>HOBBIES</td>\n",
       "      <td>HOBBIES_1_005</td>\n",
       "      <td>0</td>\n",
       "      <td>2011-01-29</td>\n",
       "      <td>11101</td>\n",
       "      <td>NaN</td>\n",
       "      <td>NaN</td>\n",
       "      <td>NaN</td>\n",
       "      <td>NaN</td>\n",
       "      <td>no</td>\n",
       "    </tr>\n",
       "  </tbody>\n",
       "</table>\n",
       "</div>"
      ],
      "text/plain": [
       "  store_id   cat_id        item_id  Sales       date  wm_yr_wk  sell_price  \\\n",
       "0     CA_1  HOBBIES  HOBBIES_1_001      0 2011-01-29     11101         NaN   \n",
       "1     CA_1  HOBBIES  HOBBIES_1_002      0 2011-01-29     11101         NaN   \n",
       "2     CA_1  HOBBIES  HOBBIES_1_003      0 2011-01-29     11101         NaN   \n",
       "3     CA_1  HOBBIES  HOBBIES_1_004      0 2011-01-29     11101         NaN   \n",
       "4     CA_1  HOBBIES  HOBBIES_1_005      0 2011-01-29     11101         NaN   \n",
       "\n",
       "   revenue event_name event_type event  \n",
       "0      NaN        NaN        NaN    no  \n",
       "1      NaN        NaN        NaN    no  \n",
       "2      NaN        NaN        NaN    no  \n",
       "3      NaN        NaN        NaN    no  \n",
       "4      NaN        NaN        NaN    no  "
      ]
     },
     "execution_count": 34,
     "metadata": {},
     "output_type": "execute_result"
    }
   ],
   "source": [
    "df_final.head()"
   ]
  },
  {
   "cell_type": "code",
   "execution_count": 35,
   "id": "5c2631df",
   "metadata": {},
   "outputs": [
    {
     "data": {
      "text/plain": [
       "(47107050, 11)"
      ]
     },
     "execution_count": 35,
     "metadata": {},
     "output_type": "execute_result"
    }
   ],
   "source": [
    "df_final.shape"
   ]
  },
  {
   "cell_type": "code",
   "execution_count": 36,
   "id": "154fa006",
   "metadata": {
    "scrolled": true
   },
   "outputs": [
    {
     "name": "stdout",
     "output_type": "stream",
     "text": [
      "First 5 rows:\n",
      "  store_id   cat_id        item_id  Sales       date  wm_yr_wk  sell_price  \\\n",
      "0     CA_1  HOBBIES  HOBBIES_1_001      0 2011-01-29     11101         NaN   \n",
      "1     CA_1  HOBBIES  HOBBIES_1_002      0 2011-01-29     11101         NaN   \n",
      "2     CA_1  HOBBIES  HOBBIES_1_003      0 2011-01-29     11101         NaN   \n",
      "3     CA_1  HOBBIES  HOBBIES_1_004      0 2011-01-29     11101         NaN   \n",
      "4     CA_1  HOBBIES  HOBBIES_1_005      0 2011-01-29     11101         NaN   \n",
      "\n",
      "   revenue event_name event_type event  \n",
      "0      NaN        NaN        NaN    no  \n",
      "1      NaN        NaN        NaN    no  \n",
      "2      NaN        NaN        NaN    no  \n",
      "3      NaN        NaN        NaN    no  \n",
      "4      NaN        NaN        NaN    no  \n",
      "\n",
      "Last 5 rows:\n",
      "         store_id cat_id      item_id  Sales       date  wm_yr_wk  sell_price  \\\n",
      "47107045     WI_3  FOODS  FOODS_3_823      2 2015-04-18     11512        2.88   \n",
      "47107046     WI_3  FOODS  FOODS_3_824      0 2015-04-18     11512        2.00   \n",
      "47107047     WI_3  FOODS  FOODS_3_825      0 2015-04-18     11512        3.98   \n",
      "47107048     WI_3  FOODS  FOODS_3_826      0 2015-04-18     11512        1.28   \n",
      "47107049     WI_3  FOODS  FOODS_3_827      3 2015-04-18     11512        1.00   \n",
      "\n",
      "          revenue event_name event_type event  \n",
      "47107045     5.76        NaN        NaN    no  \n",
      "47107046     0.00        NaN        NaN    no  \n",
      "47107047     0.00        NaN        NaN    no  \n",
      "47107048     0.00        NaN        NaN    no  \n",
      "47107049     3.00        NaN        NaN    no  \n",
      "\n",
      "Descriptive statistics:\n",
      "              Sales      wm_yr_wk    sell_price       revenue\n",
      "count  4.710705e+07  4.710705e+07  3.481517e+07  3.481517e+07\n",
      "mean   1.087059e+00  1.128854e+04  4.383812e+00  4.102582e+00\n",
      "std    3.934360e+00  1.207423e+02  3.358256e+00  1.046314e+01\n",
      "min    0.000000e+00  1.110100e+04  1.000000e-02  0.000000e+00\n",
      "25%    0.000000e+00  1.120400e+04  2.080000e+00  0.000000e+00\n",
      "50%    0.000000e+00  1.130700e+04  3.440000e+00  0.000000e+00\n",
      "75%    1.000000e+00  1.140900e+04  5.840000e+00  4.850000e+00\n",
      "max    7.630000e+02  1.151200e+04  1.073200e+02  2.164320e+03\n",
      "\n",
      "Info:\n",
      "<class 'pandas.core.frame.DataFrame'>\n",
      "Int64Index: 47107050 entries, 0 to 47107049\n",
      "Data columns (total 11 columns):\n",
      " #   Column      Dtype         \n",
      "---  ------      -----         \n",
      " 0   store_id    object        \n",
      " 1   cat_id      object        \n",
      " 2   item_id     object        \n",
      " 3   Sales       int64         \n",
      " 4   date        datetime64[ns]\n",
      " 5   wm_yr_wk    int64         \n",
      " 6   sell_price  float64       \n",
      " 7   revenue     float64       \n",
      " 8   event_name  object        \n",
      " 9   event_type  object        \n",
      " 10  event       object        \n",
      "dtypes: datetime64[ns](1), float64(2), int64(2), object(6)\n",
      "memory usage: 4.2+ GB\n",
      "None\n",
      "\n",
      "Shape:\n",
      "(47107050, 11)\n"
     ]
    }
   ],
   "source": [
    "#explore the training data\n",
    "data_processor.explore_data(df_final)"
   ]
  },
  {
   "cell_type": "code",
   "execution_count": 42,
   "id": "ef110491",
   "metadata": {},
   "outputs": [
    {
     "name": "stdout",
     "output_type": "stream",
     "text": [
      "First 5 rows:\n",
      "  store_id   cat_id        item_id  Sales       date  wm_yr_wk  sell_price  \\\n",
      "0     CA_1  HOBBIES  HOBBIES_1_001      0 2011-01-29     11101         NaN   \n",
      "1     CA_1  HOBBIES  HOBBIES_1_002      0 2011-01-29     11101         NaN   \n",
      "2     CA_1  HOBBIES  HOBBIES_1_003      0 2011-01-29     11101         NaN   \n",
      "3     CA_1  HOBBIES  HOBBIES_1_004      0 2011-01-29     11101         NaN   \n",
      "4     CA_1  HOBBIES  HOBBIES_1_005      0 2011-01-29     11101         NaN   \n",
      "\n",
      "   revenue event_name event_type event  \n",
      "0      NaN        NaN        NaN    no  \n",
      "1      NaN        NaN        NaN    no  \n",
      "2      NaN        NaN        NaN    no  \n",
      "3      NaN        NaN        NaN    no  \n",
      "4      NaN        NaN        NaN    no  \n",
      "\n",
      "Last 5 rows:\n",
      "         store_id cat_id      item_id  Sales       date  wm_yr_wk  sell_price  \\\n",
      "47107045     WI_3  FOODS  FOODS_3_823      2 2015-04-18     11512        2.88   \n",
      "47107046     WI_3  FOODS  FOODS_3_824      0 2015-04-18     11512        2.00   \n",
      "47107047     WI_3  FOODS  FOODS_3_825      0 2015-04-18     11512        3.98   \n",
      "47107048     WI_3  FOODS  FOODS_3_826      0 2015-04-18     11512        1.28   \n",
      "47107049     WI_3  FOODS  FOODS_3_827      3 2015-04-18     11512        1.00   \n",
      "\n",
      "          revenue event_name event_type event  \n",
      "47107045     5.76        NaN        NaN    no  \n",
      "47107046     0.00        NaN        NaN    no  \n",
      "47107047     0.00        NaN        NaN    no  \n",
      "47107048     0.00        NaN        NaN    no  \n",
      "47107049     3.00        NaN        NaN    no  \n",
      "\n",
      "Descriptive statistics:\n",
      "              Sales      wm_yr_wk    sell_price       revenue\n",
      "count  4.710705e+07  4.710705e+07  3.481517e+07  3.481517e+07\n",
      "mean   1.087059e+00  1.128854e+04  4.383812e+00  4.102582e+00\n",
      "std    3.934360e+00  1.207423e+02  3.358256e+00  1.046314e+01\n",
      "min    0.000000e+00  1.110100e+04  1.000000e-02  0.000000e+00\n",
      "25%    0.000000e+00  1.120400e+04  2.080000e+00  0.000000e+00\n",
      "50%    0.000000e+00  1.130700e+04  3.440000e+00  0.000000e+00\n",
      "75%    1.000000e+00  1.140900e+04  5.840000e+00  4.850000e+00\n",
      "max    7.630000e+02  1.151200e+04  1.073200e+02  2.164320e+03\n",
      "\n",
      "Info:\n",
      "<class 'pandas.core.frame.DataFrame'>\n",
      "Int64Index: 47107050 entries, 0 to 47107049\n",
      "Data columns (total 11 columns):\n",
      " #   Column      Dtype         \n",
      "---  ------      -----         \n",
      " 0   store_id    object        \n",
      " 1   cat_id      object        \n",
      " 2   item_id     object        \n",
      " 3   Sales       int64         \n",
      " 4   date        datetime64[ns]\n",
      " 5   wm_yr_wk    int64         \n",
      " 6   sell_price  float64       \n",
      " 7   revenue     float64       \n",
      " 8   event_name  object        \n",
      " 9   event_type  object        \n",
      " 10  event       object        \n",
      "dtypes: datetime64[ns](1), float64(2), int64(2), object(6)\n",
      "memory usage: 4.2+ GB\n",
      "None\n",
      "\n",
      "Shape:\n",
      "(47107050, 11)\n"
     ]
    }
   ],
   "source": [
    "#explore the training data\n",
    "data_processor.explore_data(df_final)"
   ]
  },
  {
   "cell_type": "code",
   "execution_count": 60,
   "id": "33a199f9",
   "metadata": {},
   "outputs": [
    {
     "name": "stdout",
     "output_type": "stream",
     "text": [
      "1540 days\n",
      "4.219178082191781 years\n"
     ]
    }
   ],
   "source": [
    "\n",
    "# Define a function to calculate the duration of a dataset based on the 'date' column\n",
    "def dataset_duration(data):\n",
    "    # Convert the 'date' column to datetime format\n",
    "    data.date = pd.to_datetime(data.date)\n",
    "    \n",
    "    # Calculate the difference between the maximum and minimum dates in days\n",
    "    total_days = data.date.max() - data.date.min()\n",
    "    \n",
    "    # Calculate the number of years by dividing days by 365\n",
    "    total_years = total_days.days / 365\n",
    "    \n",
    "    # Print the duration in days and years\n",
    "    print(total_days.days, 'days')\n",
    "    print(total_years, 'years')\n",
    "\n",
    "# Call the function to calculate and print the duration of the dataset in df_total\n",
    "dataset_duration(df_total)\n"
   ]
  },
  {
   "cell_type": "code",
   "execution_count": 61,
   "id": "97059769",
   "metadata": {},
   "outputs": [
    {
     "data": {
      "text/plain": [
       "store_id             0\n",
       "cat_id               0\n",
       "item_id              0\n",
       "Sales                0\n",
       "date                 0\n",
       "wm_yr_wk             0\n",
       "sell_price    12291876\n",
       "revenue       12291876\n",
       "event_name    43143350\n",
       "event_type    43143350\n",
       "event                0\n",
       "dtype: int64"
      ]
     },
     "execution_count": 61,
     "metadata": {},
     "output_type": "execute_result"
    }
   ],
   "source": [
    "df_final.isnull().sum()"
   ]
  },
  {
   "cell_type": "code",
   "execution_count": 68,
   "id": "25146a24",
   "metadata": {},
   "outputs": [],
   "source": [
    "# substitute nan with 0\n",
    "df_final['sell_price'].fillna(0, inplace=True)\n",
    "df_final['revenue'].fillna(0, inplace=True)\n"
   ]
  },
  {
   "cell_type": "code",
   "execution_count": 63,
   "id": "23070961",
   "metadata": {},
   "outputs": [],
   "source": [
    "# removing columns\n",
    "df_final.drop(['event_name', 'event_type'], axis=1, inplace=True)\n"
   ]
  },
  {
   "cell_type": "code",
   "execution_count": 65,
   "id": "509df85a",
   "metadata": {},
   "outputs": [
    {
     "name": "stdout",
     "output_type": "stream",
     "text": [
      "<class 'pandas.core.frame.DataFrame'>\n",
      "Int64Index: 47107050 entries, 0 to 47107049\n",
      "Data columns (total 9 columns):\n",
      " #   Column      Dtype         \n",
      "---  ------      -----         \n",
      " 0   store_id    object        \n",
      " 1   cat_id      object        \n",
      " 2   item_id     object        \n",
      " 3   Sales       int64         \n",
      " 4   date        datetime64[ns]\n",
      " 5   wm_yr_wk    int64         \n",
      " 6   sell_price  float64       \n",
      " 7   revenue     float64       \n",
      " 8   event       object        \n",
      "dtypes: datetime64[ns](1), float64(2), int64(2), object(4)\n",
      "memory usage: 3.5+ GB\n"
     ]
    }
   ],
   "source": [
    "df_final.info()"
   ]
  },
  {
   "cell_type": "code",
   "execution_count": 69,
   "id": "ad9e395b",
   "metadata": {
    "scrolled": true
   },
   "outputs": [
    {
     "data": {
      "text/plain": [
       "store_id      0\n",
       "cat_id        0\n",
       "item_id       0\n",
       "Sales         0\n",
       "date          0\n",
       "wm_yr_wk      0\n",
       "sell_price    0\n",
       "revenue       0\n",
       "event         0\n",
       "dtype: int64"
      ]
     },
     "execution_count": 69,
     "metadata": {},
     "output_type": "execute_result"
    }
   ],
   "source": [
    "#checking for null values\n",
    "df_final.isnull().sum()"
   ]
  },
  {
   "cell_type": "code",
   "execution_count": 109,
   "id": "5d6d8301",
   "metadata": {},
   "outputs": [],
   "source": [
    "# save the DataFrame to a file named \"final_merged.csv\"\n",
    "df_final.to_csv('final_merged.csv', index=False)\n"
   ]
  },
  {
   "cell_type": "code",
   "execution_count": 3,
   "id": "c8b2ee05",
   "metadata": {},
   "outputs": [],
   "source": [
    "# read from final merged dataset\n",
    "df_final = pd.read_csv('C:/Users/saumy/OneDrive/Desktop/Semester-3/AdvMLA/AdvMLA_AT2/data/interim/final_merged.csv')\n"
   ]
  },
  {
   "cell_type": "code",
   "execution_count": 4,
   "id": "2894b42f",
   "metadata": {},
   "outputs": [],
   "source": [
    "# make a copy of df_final\n",
    "df_revenue_data = df_final.copy()"
   ]
  },
  {
   "cell_type": "code",
   "execution_count": 5,
   "id": "d77c7ec9",
   "metadata": {
    "scrolled": true
   },
   "outputs": [
    {
     "data": {
      "text/html": [
       "<div>\n",
       "<style scoped>\n",
       "    .dataframe tbody tr th:only-of-type {\n",
       "        vertical-align: middle;\n",
       "    }\n",
       "\n",
       "    .dataframe tbody tr th {\n",
       "        vertical-align: top;\n",
       "    }\n",
       "\n",
       "    .dataframe thead th {\n",
       "        text-align: right;\n",
       "    }\n",
       "</style>\n",
       "<table border=\"1\" class=\"dataframe\">\n",
       "  <thead>\n",
       "    <tr style=\"text-align: right;\">\n",
       "      <th></th>\n",
       "      <th>store_id</th>\n",
       "      <th>cat_id</th>\n",
       "      <th>item_id</th>\n",
       "      <th>Sales</th>\n",
       "      <th>date</th>\n",
       "      <th>wm_yr_wk</th>\n",
       "      <th>sell_price</th>\n",
       "      <th>revenue</th>\n",
       "      <th>event</th>\n",
       "    </tr>\n",
       "  </thead>\n",
       "  <tbody>\n",
       "    <tr>\n",
       "      <th>0</th>\n",
       "      <td>CA_1</td>\n",
       "      <td>HOBBIES</td>\n",
       "      <td>HOBBIES_1_001</td>\n",
       "      <td>0</td>\n",
       "      <td>2011-01-29</td>\n",
       "      <td>11101</td>\n",
       "      <td>0.0</td>\n",
       "      <td>0.0</td>\n",
       "      <td>no</td>\n",
       "    </tr>\n",
       "    <tr>\n",
       "      <th>1</th>\n",
       "      <td>CA_1</td>\n",
       "      <td>HOBBIES</td>\n",
       "      <td>HOBBIES_1_002</td>\n",
       "      <td>0</td>\n",
       "      <td>2011-01-29</td>\n",
       "      <td>11101</td>\n",
       "      <td>0.0</td>\n",
       "      <td>0.0</td>\n",
       "      <td>no</td>\n",
       "    </tr>\n",
       "    <tr>\n",
       "      <th>2</th>\n",
       "      <td>CA_1</td>\n",
       "      <td>HOBBIES</td>\n",
       "      <td>HOBBIES_1_003</td>\n",
       "      <td>0</td>\n",
       "      <td>2011-01-29</td>\n",
       "      <td>11101</td>\n",
       "      <td>0.0</td>\n",
       "      <td>0.0</td>\n",
       "      <td>no</td>\n",
       "    </tr>\n",
       "    <tr>\n",
       "      <th>3</th>\n",
       "      <td>CA_1</td>\n",
       "      <td>HOBBIES</td>\n",
       "      <td>HOBBIES_1_004</td>\n",
       "      <td>0</td>\n",
       "      <td>2011-01-29</td>\n",
       "      <td>11101</td>\n",
       "      <td>0.0</td>\n",
       "      <td>0.0</td>\n",
       "      <td>no</td>\n",
       "    </tr>\n",
       "    <tr>\n",
       "      <th>4</th>\n",
       "      <td>CA_1</td>\n",
       "      <td>HOBBIES</td>\n",
       "      <td>HOBBIES_1_005</td>\n",
       "      <td>0</td>\n",
       "      <td>2011-01-29</td>\n",
       "      <td>11101</td>\n",
       "      <td>0.0</td>\n",
       "      <td>0.0</td>\n",
       "      <td>no</td>\n",
       "    </tr>\n",
       "  </tbody>\n",
       "</table>\n",
       "</div>"
      ],
      "text/plain": [
       "  store_id   cat_id        item_id  Sales        date  wm_yr_wk  sell_price  \\\n",
       "0     CA_1  HOBBIES  HOBBIES_1_001      0  2011-01-29     11101         0.0   \n",
       "1     CA_1  HOBBIES  HOBBIES_1_002      0  2011-01-29     11101         0.0   \n",
       "2     CA_1  HOBBIES  HOBBIES_1_003      0  2011-01-29     11101         0.0   \n",
       "3     CA_1  HOBBIES  HOBBIES_1_004      0  2011-01-29     11101         0.0   \n",
       "4     CA_1  HOBBIES  HOBBIES_1_005      0  2011-01-29     11101         0.0   \n",
       "\n",
       "   revenue event  \n",
       "0      0.0    no  \n",
       "1      0.0    no  \n",
       "2      0.0    no  \n",
       "3      0.0    no  \n",
       "4      0.0    no  "
      ]
     },
     "execution_count": 5,
     "metadata": {},
     "output_type": "execute_result"
    }
   ],
   "source": [
    "df_revenue_data.head()"
   ]
  },
  {
   "cell_type": "markdown",
   "id": "3bd84dc3",
   "metadata": {},
   "source": [
    "## Visualizations"
   ]
  },
  {
   "cell_type": "code",
   "execution_count": 38,
   "id": "1abceccf",
   "metadata": {},
   "outputs": [
    {
     "data": {
      "image/png": "[encoded data removed]",
      "text/plain": [
       "<Figure size 1200x600 with 1 Axes>"
      ]
     },
     "metadata": {},
     "output_type": "display_data"
    },
    {
     "data": {
      "image/png": "[encoded data removed]",
      "text/plain": [
       "<Figure size 1200x600 with 1 Axes>"
      ]
     },
     "metadata": {},
     "output_type": "display_data"
    }
   ],
   "source": [
    "# Import the 'visualize_data' function from the 'src.visualization.visualize' module\n",
    "from src.visualization.visualize import visualize_data\n",
    "\n",
    "# Call the 'visualize_data' function with the 'df_train' DataFrame as input\n",
    "visualize_data(df_revenue_data)\n"
   ]
  },
  {
   "cell_type": "markdown",
   "id": "5ac8356f",
   "metadata": {},
   "source": [
    "## Data Spitting"
   ]
  },
  {
   "cell_type": "code",
   "execution_count": 14,
   "id": "bc95bd33",
   "metadata": {},
   "outputs": [],
   "source": [
    "# importing necessary libraries\n",
    "from sklearn.model_selection import train_test_split\n",
    "\n",
    "X = df_revenue_data.drop('revenue', axis=1)\n",
    "y = df_revenue_data['revenue']"
   ]
  },
  {
   "cell_type": "code",
   "execution_count": 15,
   "id": "9e2e9372",
   "metadata": {},
   "outputs": [],
   "source": [
    "# Split the features and target variable into 2 different sets (training and validation) with 70-30 ratio\n",
    "X_train, X_val, y_train, y_val = train_test_split(X, y, test_size=0.3, random_state=40, shuffle = 'false')"
   ]
  },
  {
   "cell_type": "markdown",
   "id": "717e3304",
   "metadata": {},
   "source": [
    "### Training set"
   ]
  },
  {
   "cell_type": "code",
   "execution_count": 16,
   "id": "232778f0",
   "metadata": {},
   "outputs": [],
   "source": [
    "import pandas as pd\n",
    "\n",
    "# Convert the 'date' column to datetime\n",
    "X_train['date'] = pd.to_datetime(X_train['date'])\n",
    "\n",
    "# Extract day, month, day of the week, and year into separate columns\n",
    "X_train['day'] = X_train['date'].dt.day\n",
    "X_train['month'] = X_train['date'].dt.month\n",
    "X_train['day_of_week'] = X_train['date'].dt.day_name()\n",
    "X_train['year'] = X_train['date'].dt.year\n"
   ]
  },
  {
   "cell_type": "code",
   "execution_count": 17,
   "id": "d1c2f270",
   "metadata": {},
   "outputs": [
    {
     "name": "stdout",
     "output_type": "stream",
     "text": [
      "<class 'pandas.core.frame.DataFrame'>\n",
      "Int64Index: 32974935 entries, 1311972 to 6171974\n",
      "Data columns (total 12 columns):\n",
      " #   Column       Dtype         \n",
      "---  ------       -----         \n",
      " 0   store_id     object        \n",
      " 1   cat_id       object        \n",
      " 2   item_id      object        \n",
      " 3   Sales        int64         \n",
      " 4   date         datetime64[ns]\n",
      " 5   wm_yr_wk     int64         \n",
      " 6   sell_price   float64       \n",
      " 7   event        object        \n",
      " 8   day          int64         \n",
      " 9   month        int64         \n",
      " 10  day_of_week  object        \n",
      " 11  year         int64         \n",
      "dtypes: datetime64[ns](1), float64(1), int64(5), object(5)\n",
      "memory usage: 3.2+ GB\n"
     ]
    }
   ],
   "source": [
    "X_train.info()"
   ]
  },
  {
   "cell_type": "code",
   "execution_count": 18,
   "id": "338f7a81",
   "metadata": {},
   "outputs": [],
   "source": [
    "# List of columns to drop\n",
    "cols_to_drop = ['cat_id', 'Sales', 'date', 'wm_yr_wk', 'sell_price', 'day', 'event']\n",
    "\n",
    "# Drop the columns\n",
    "X_train.drop(cols_to_drop, axis=1, inplace=True)\n"
   ]
  },
  {
   "cell_type": "code",
   "execution_count": 19,
   "id": "83b43cfa",
   "metadata": {},
   "outputs": [
    {
     "name": "stdout",
     "output_type": "stream",
     "text": [
      "<class 'pandas.core.frame.DataFrame'>\n",
      "Int64Index: 32974935 entries, 1311972 to 6171974\n",
      "Data columns (total 5 columns):\n",
      " #   Column       Dtype \n",
      "---  ------       ----- \n",
      " 0   store_id     object\n",
      " 1   item_id      object\n",
      " 2   month        int64 \n",
      " 3   day_of_week  object\n",
      " 4   year         int64 \n",
      "dtypes: int64(2), object(3)\n",
      "memory usage: 1.5+ GB\n"
     ]
    }
   ],
   "source": [
    "X_train.info()"
   ]
  },
  {
   "cell_type": "code",
   "execution_count": 20,
   "id": "8f0d101a",
   "metadata": {},
   "outputs": [],
   "source": [
    "from sklearn.pipeline import Pipeline\n",
    "from sklearn.preprocessing import StandardScaler, OneHotEncoder, OrdinalEncoder\n",
    "from sklearn.linear_model import SGDClassifier\n",
    "from sklearn.preprocessing import LabelEncoder\n",
    "from sklearn.preprocessing import MinMaxScaler"
   ]
  },
  {
   "cell_type": "code",
   "execution_count": 21,
   "id": "408c1d97",
   "metadata": {},
   "outputs": [],
   "source": [
    "cat_cols = ['store_id', 'day_of_week']"
   ]
  },
  {
   "cell_type": "code",
   "execution_count": 22,
   "id": "c67b9a11",
   "metadata": {},
   "outputs": [],
   "source": [
    "num_cols = X_train.select_dtypes(include=['float64']).columns"
   ]
  },
  {
   "cell_type": "code",
   "execution_count": 15,
   "id": "d0be2ddc",
   "metadata": {},
   "outputs": [],
   "source": [
    "#!pip install category_encoders"
   ]
  },
  {
   "cell_type": "code",
   "execution_count": 21,
   "id": "205f974f",
   "metadata": {},
   "outputs": [
    {
     "data": {
      "text/plain": [
       "3049"
      ]
     },
     "execution_count": 21,
     "metadata": {},
     "output_type": "execute_result"
    }
   ],
   "source": [
    " df_revenue_data['item_id'].nunique()"
   ]
  },
  {
   "cell_type": "code",
   "execution_count": 23,
   "id": "d6805ec5",
   "metadata": {},
   "outputs": [],
   "source": [
    "from category_encoders import TargetEncoder\n",
    "\n",
    "# Create a TargetEncoder transformer\n",
    "target_encoder = TargetEncoder()\n",
    "\n",
    "\n",
    "# Create a pipeline for target encoding\n",
    "id_transformer = Pipeline(\n",
    "    steps=[\n",
    "        ('target_encoder', target_encoder)\n",
    "    ]\n",
    ")"
   ]
  },
  {
   "cell_type": "code",
   "execution_count": 24,
   "id": "9a3217be",
   "metadata": {},
   "outputs": [],
   "source": [
    "# Create a pipeline for one-hot encoding\n",
    "cat_transformer = Pipeline(\n",
    "    steps=[\n",
    "        ('one_hot_encoder', OneHotEncoder(sparse=False, drop='first'))\n",
    "    ]\n",
    ")"
   ]
  },
  {
   "cell_type": "code",
   "execution_count": 25,
   "id": "3a6e1c66",
   "metadata": {},
   "outputs": [],
   "source": [
    "# Create a pipeline for MinMoax Scaler\n",
    "num_transformer = Pipeline(\n",
    "    steps=[\n",
    "        ('minmax_scaler', MinMaxScaler())\n",
    "    ]\n",
    ")"
   ]
  },
  {
   "cell_type": "code",
   "execution_count": 26,
   "id": "d419c8d0",
   "metadata": {},
   "outputs": [],
   "source": [
    "from sklearn.compose import ColumnTransformer"
   ]
  },
  {
   "cell_type": "code",
   "execution_count": 27,
   "id": "fe07992a",
   "metadata": {},
   "outputs": [],
   "source": [
    "# Create a column transformer\n",
    "preprocessor = ColumnTransformer(\n",
    "    transformers=[\n",
    "        ('id', id_transformer, ['item_id']),\n",
    "        ('cat_cols', cat_transformer, cat_cols),\n",
    "        ('num_cols', num_transformer, num_cols),\n",
    "    ]\n",
    ")\n"
   ]
  },
  {
   "cell_type": "markdown",
   "id": "351434e1",
   "metadata": {},
   "source": [
    "### Validation Set"
   ]
  },
  {
   "cell_type": "code",
   "execution_count": 28,
   "id": "58f8db07",
   "metadata": {},
   "outputs": [],
   "source": [
    "# Convert the 'date' column to datetime\n",
    "X_val['date'] = pd.to_datetime(X_val['date'])"
   ]
  },
  {
   "cell_type": "code",
   "execution_count": 29,
   "id": "362fbcc9",
   "metadata": {},
   "outputs": [],
   "source": [
    "# Extract day, month, day of the week, and year into separate columns\n",
    "X_val['day'] = X_val['date'].dt.day\n",
    "X_val['month'] = X_val['date'].dt.month\n",
    "X_val['day_of_week'] = X_val['date'].dt.day_name()\n",
    "X_val['year'] = X_val['date'].dt.year\n"
   ]
  },
  {
   "cell_type": "code",
   "execution_count": 30,
   "id": "b94b4fc6",
   "metadata": {},
   "outputs": [
    {
     "name": "stdout",
     "output_type": "stream",
     "text": [
      "<class 'pandas.core.frame.DataFrame'>\n",
      "Int64Index: 14132115 entries, 23467921 to 29619751\n",
      "Data columns (total 12 columns):\n",
      " #   Column       Dtype         \n",
      "---  ------       -----         \n",
      " 0   store_id     object        \n",
      " 1   cat_id       object        \n",
      " 2   item_id      object        \n",
      " 3   Sales        int64         \n",
      " 4   date         datetime64[ns]\n",
      " 5   wm_yr_wk     int64         \n",
      " 6   sell_price   float64       \n",
      " 7   event        object        \n",
      " 8   day          int64         \n",
      " 9   month        int64         \n",
      " 10  day_of_week  object        \n",
      " 11  year         int64         \n",
      "dtypes: datetime64[ns](1), float64(1), int64(5), object(5)\n",
      "memory usage: 1.4+ GB\n"
     ]
    }
   ],
   "source": [
    "X_val.info()"
   ]
  },
  {
   "cell_type": "code",
   "execution_count": 31,
   "id": "bd7c981f",
   "metadata": {},
   "outputs": [],
   "source": [
    "# Drop the columns\n",
    "X_val.drop(cols_to_drop, axis=1, inplace=True)\n"
   ]
  },
  {
   "cell_type": "code",
   "execution_count": 32,
   "id": "f7a3f860",
   "metadata": {},
   "outputs": [
    {
     "name": "stdout",
     "output_type": "stream",
     "text": [
      "<class 'pandas.core.frame.DataFrame'>\n",
      "Int64Index: 14132115 entries, 23467921 to 29619751\n",
      "Data columns (total 5 columns):\n",
      " #   Column       Dtype \n",
      "---  ------       ----- \n",
      " 0   store_id     object\n",
      " 1   item_id      object\n",
      " 2   month        int64 \n",
      " 3   day_of_week  object\n",
      " 4   year         int64 \n",
      "dtypes: int64(2), object(3)\n",
      "memory usage: 646.9+ MB\n"
     ]
    }
   ],
   "source": [
    "X_val.info()"
   ]
  },
  {
   "cell_type": "markdown",
   "id": "16d8c6a3",
   "metadata": {},
   "source": [
    "## Modelling"
   ]
  },
  {
   "cell_type": "code",
   "execution_count": 26,
   "id": "fd618380",
   "metadata": {},
   "outputs": [],
   "source": [
    "#import necessary libraries\n",
    "from sklearn.tree import DecisionTreeRegressor\n",
    "from sklearn.pipeline import Pipeline\n",
    "from sklearn.metrics import mean_squared_error\n",
    "import numpy as np\n",
    "\n",
    "\n",
    "# Create a Decision Tree Regressor pipeline\n",
    "dt_pipe = Pipeline(\n",
    "    steps=[\n",
    "        ('preprocessor', preprocessor),\n",
    "        ('dt_regressor', DecisionTreeRegressor(random_state=42))  # You can set other Decision Tree parameters here\n",
    "    ]\n",
    ")\n"
   ]
  },
  {
   "cell_type": "code",
   "execution_count": 27,
   "id": "80a71782",
   "metadata": {},
   "outputs": [
    {
     "name": "stderr",
     "output_type": "stream",
     "text": [
      "C:\\Users\\saumy\\anaconda3\\lib\\site-packages\\sklearn\\preprocessing\\_encoders.py:828: FutureWarning: `sparse` was renamed to `sparse_output` in version 1.2 and will be removed in 1.4. `sparse_output` is ignored unless you leave `sparse` to its default value.\n",
      "  warnings.warn(\n"
     ]
    },
    {
     "data": {
      "text/html": [
       "<style>#sk-container-id-1 {color: black;background-color: white;}#sk-container-id-1 pre{padding: 0;}#sk-container-id-1 div.sk-toggleable {background-color: white;}#sk-container-id-1 label.sk-toggleable__label {cursor: pointer;display: block;width: 100%;margin-bottom: 0;padding: 0.3em;box-sizing: border-box;text-align: center;}#sk-container-id-1 label.sk-toggleable__label-arrow:before {content: \"▸\";float: left;margin-right: 0.25em;color: #696969;}#sk-container-id-1 label.sk-toggleable__label-arrow:hover:before {color: black;}#sk-container-id-1 div.sk-estimator:hover label.sk-toggleable__label-arrow:before {color: black;}#sk-container-id-1 div.sk-toggleable__content {max-height: 0;max-width: 0;overflow: hidden;text-align: left;background-color: #f0f8ff;}#sk-container-id-1 div.sk-toggleable__content pre {margin: 0.2em;color: black;border-radius: 0.25em;background-color: #f0f8ff;}#sk-container-id-1 input.sk-toggleable__control:checked~div.sk-toggleable__content {max-height: 200px;max-width: 100%;overflow: auto;}#sk-container-id-1 input.sk-toggleable__control:checked~label.sk-toggleable__label-arrow:before {content: \"▾\";}#sk-container-id-1 div.sk-estimator input.sk-toggleable__control:checked~label.sk-toggleable__label {background-color: #d4ebff;}#sk-container-id-1 div.sk-label input.sk-toggleable__control:checked~label.sk-toggleable__label {background-color: #d4ebff;}#sk-container-id-1 input.sk-hidden--visually {border: 0;clip: rect(1px 1px 1px 1px);clip: rect(1px, 1px, 1px, 1px);height: 1px;margin: -1px;overflow: hidden;padding: 0;position: absolute;width: 1px;}#sk-container-id-1 div.sk-estimator {font-family: monospace;background-color: #f0f8ff;border: 1px dotted black;border-radius: 0.25em;box-sizing: border-box;margin-bottom: 0.5em;}#sk-container-id-1 div.sk-estimator:hover {background-color: #d4ebff;}#sk-container-id-1 div.sk-parallel-item::after {content: \"\";width: 100%;border-bottom: 1px solid gray;flex-grow: 1;}#sk-container-id-1 div.sk-label:hover label.sk-toggleable__label {background-color: #d4ebff;}#sk-container-id-1 div.sk-serial::before {content: \"\";position: absolute;border-left: 1px solid gray;box-sizing: border-box;top: 0;bottom: 0;left: 50%;z-index: 0;}#sk-container-id-1 div.sk-serial {display: flex;flex-direction: column;align-items: center;background-color: white;padding-right: 0.2em;padding-left: 0.2em;position: relative;}#sk-container-id-1 div.sk-item {position: relative;z-index: 1;}#sk-container-id-1 div.sk-parallel {display: flex;align-items: stretch;justify-content: center;background-color: white;position: relative;}#sk-container-id-1 div.sk-item::before, #sk-container-id-1 div.sk-parallel-item::before {content: \"\";position: absolute;border-left: 1px solid gray;box-sizing: border-box;top: 0;bottom: 0;left: 50%;z-index: -1;}#sk-container-id-1 div.sk-parallel-item {display: flex;flex-direction: column;z-index: 1;position: relative;background-color: white;}#sk-container-id-1 div.sk-parallel-item:first-child::after {align-self: flex-end;width: 50%;}#sk-container-id-1 div.sk-parallel-item:last-child::after {align-self: flex-start;width: 50%;}#sk-container-id-1 div.sk-parallel-item:only-child::after {width: 0;}#sk-container-id-1 div.sk-dashed-wrapped {border: 1px dashed gray;margin: 0 0.4em 0.5em 0.4em;box-sizing: border-box;padding-bottom: 0.4em;background-color: white;}#sk-container-id-1 div.sk-label label {font-family: monospace;font-weight: bold;display: inline-block;line-height: 1.2em;}#sk-container-id-1 div.sk-label-container {text-align: center;}#sk-container-id-1 div.sk-container {/* jupyter's `normalize.less` sets `[hidden] { display: none; }` but bootstrap.min.css set `[hidden] { display: none !important; }` so we also need the `!important` here to be able to override the default hidden behavior on the sphinx rendered scikit-learn.org. See: https://github.com/scikit-learn/scikit-learn/issues/21755 */display: inline-block !important;position: relative;}#sk-container-id-1 div.sk-text-repr-fallback {display: none;}</style><div id=\"sk-container-id-1\" class=\"sk-top-container\"><div class=\"sk-text-repr-fallback\"><pre>Pipeline(steps=[(&#x27;preprocessor&#x27;,\n",
       "                 ColumnTransformer(transformers=[(&#x27;id&#x27;,\n",
       "                                                  Pipeline(steps=[(&#x27;target_encoder&#x27;,\n",
       "                                                                   TargetEncoder())]),\n",
       "                                                  [&#x27;item_id&#x27;]),\n",
       "                                                 (&#x27;cat_cols&#x27;,\n",
       "                                                  Pipeline(steps=[(&#x27;one_hot_encoder&#x27;,\n",
       "                                                                   OneHotEncoder(drop=&#x27;first&#x27;,\n",
       "                                                                                 sparse=False))]),\n",
       "                                                  [&#x27;store_id&#x27;, &#x27;day_of_week&#x27;]),\n",
       "                                                 (&#x27;num_cols&#x27;,\n",
       "                                                  Pipeline(steps=[(&#x27;minmax_scaler&#x27;,\n",
       "                                                                   MinMaxScaler())]),\n",
       "                                                  Index([], dtype=&#x27;object&#x27;))])),\n",
       "                (&#x27;dt_regressor&#x27;, DecisionTreeRegressor(random_state=42))])</pre><b>In a Jupyter environment, please rerun this cell to show the HTML representation or trust the notebook. <br />On GitHub, the HTML representation is unable to render, please try loading this page with nbviewer.org.</b></div><div class=\"sk-container\" hidden><div class=\"sk-item sk-dashed-wrapped\"><div class=\"sk-label-container\"><div class=\"sk-label sk-toggleable\"><input class=\"sk-toggleable__control sk-hidden--visually\" id=\"sk-estimator-id-1\" type=\"checkbox\" ><label for=\"sk-estimator-id-1\" class=\"sk-toggleable__label sk-toggleable__label-arrow\">Pipeline</label><div class=\"sk-toggleable__content\"><pre>Pipeline(steps=[(&#x27;preprocessor&#x27;,\n",
       "                 ColumnTransformer(transformers=[(&#x27;id&#x27;,\n",
       "                                                  Pipeline(steps=[(&#x27;target_encoder&#x27;,\n",
       "                                                                   TargetEncoder())]),\n",
       "                                                  [&#x27;item_id&#x27;]),\n",
       "                                                 (&#x27;cat_cols&#x27;,\n",
       "                                                  Pipeline(steps=[(&#x27;one_hot_encoder&#x27;,\n",
       "                                                                   OneHotEncoder(drop=&#x27;first&#x27;,\n",
       "                                                                                 sparse=False))]),\n",
       "                                                  [&#x27;store_id&#x27;, &#x27;day_of_week&#x27;]),\n",
       "                                                 (&#x27;num_cols&#x27;,\n",
       "                                                  Pipeline(steps=[(&#x27;minmax_scaler&#x27;,\n",
       "                                                                   MinMaxScaler())]),\n",
       "                                                  Index([], dtype=&#x27;object&#x27;))])),\n",
       "                (&#x27;dt_regressor&#x27;, DecisionTreeRegressor(random_state=42))])</pre></div></div></div><div class=\"sk-serial\"><div class=\"sk-item sk-dashed-wrapped\"><div class=\"sk-label-container\"><div class=\"sk-label sk-toggleable\"><input class=\"sk-toggleable__control sk-hidden--visually\" id=\"sk-estimator-id-2\" type=\"checkbox\" ><label for=\"sk-estimator-id-2\" class=\"sk-toggleable__label sk-toggleable__label-arrow\">preprocessor: ColumnTransformer</label><div class=\"sk-toggleable__content\"><pre>ColumnTransformer(transformers=[(&#x27;id&#x27;,\n",
       "                                 Pipeline(steps=[(&#x27;target_encoder&#x27;,\n",
       "                                                  TargetEncoder())]),\n",
       "                                 [&#x27;item_id&#x27;]),\n",
       "                                (&#x27;cat_cols&#x27;,\n",
       "                                 Pipeline(steps=[(&#x27;one_hot_encoder&#x27;,\n",
       "                                                  OneHotEncoder(drop=&#x27;first&#x27;,\n",
       "                                                                sparse=False))]),\n",
       "                                 [&#x27;store_id&#x27;, &#x27;day_of_week&#x27;]),\n",
       "                                (&#x27;num_cols&#x27;,\n",
       "                                 Pipeline(steps=[(&#x27;minmax_scaler&#x27;,\n",
       "                                                  MinMaxScaler())]),\n",
       "                                 Index([], dtype=&#x27;object&#x27;))])</pre></div></div></div><div class=\"sk-parallel\"><div class=\"sk-parallel-item\"><div class=\"sk-item\"><div class=\"sk-label-container\"><div class=\"sk-label sk-toggleable\"><input class=\"sk-toggleable__control sk-hidden--visually\" id=\"sk-estimator-id-3\" type=\"checkbox\" ><label for=\"sk-estimator-id-3\" class=\"sk-toggleable__label sk-toggleable__label-arrow\">id</label><div class=\"sk-toggleable__content\"><pre>[&#x27;item_id&#x27;]</pre></div></div></div><div class=\"sk-serial\"><div class=\"sk-item\"><div class=\"sk-serial\"><div class=\"sk-item\"><div class=\"sk-estimator sk-toggleable\"><input class=\"sk-toggleable__control sk-hidden--visually\" id=\"sk-estimator-id-4\" type=\"checkbox\" ><label for=\"sk-estimator-id-4\" class=\"sk-toggleable__label sk-toggleable__label-arrow\">TargetEncoder</label><div class=\"sk-toggleable__content\"><pre>TargetEncoder()</pre></div></div></div></div></div></div></div></div><div class=\"sk-parallel-item\"><div class=\"sk-item\"><div class=\"sk-label-container\"><div class=\"sk-label sk-toggleable\"><input class=\"sk-toggleable__control sk-hidden--visually\" id=\"sk-estimator-id-5\" type=\"checkbox\" ><label for=\"sk-estimator-id-5\" class=\"sk-toggleable__label sk-toggleable__label-arrow\">cat_cols</label><div class=\"sk-toggleable__content\"><pre>[&#x27;store_id&#x27;, &#x27;day_of_week&#x27;]</pre></div></div></div><div class=\"sk-serial\"><div class=\"sk-item\"><div class=\"sk-serial\"><div class=\"sk-item\"><div class=\"sk-estimator sk-toggleable\"><input class=\"sk-toggleable__control sk-hidden--visually\" id=\"sk-estimator-id-6\" type=\"checkbox\" ><label for=\"sk-estimator-id-6\" class=\"sk-toggleable__label sk-toggleable__label-arrow\">OneHotEncoder</label><div class=\"sk-toggleable__content\"><pre>OneHotEncoder(drop=&#x27;first&#x27;, sparse=False)</pre></div></div></div></div></div></div></div></div><div class=\"sk-parallel-item\"><div class=\"sk-item\"><div class=\"sk-label-container\"><div class=\"sk-label sk-toggleable\"><input class=\"sk-toggleable__control sk-hidden--visually\" id=\"sk-estimator-id-7\" type=\"checkbox\" ><label for=\"sk-estimator-id-7\" class=\"sk-toggleable__label sk-toggleable__label-arrow\">num_cols</label><div class=\"sk-toggleable__content\"><pre>Index([], dtype=&#x27;object&#x27;)</pre></div></div></div><div class=\"sk-serial\"><div class=\"sk-item\"><div class=\"sk-serial\"><div class=\"sk-item\"><div class=\"sk-estimator sk-toggleable\"><input class=\"sk-toggleable__control sk-hidden--visually\" id=\"sk-estimator-id-8\" type=\"checkbox\" ><label for=\"sk-estimator-id-8\" class=\"sk-toggleable__label sk-toggleable__label-arrow\">MinMaxScaler</label><div class=\"sk-toggleable__content\"><pre>MinMaxScaler()</pre></div></div></div></div></div></div></div></div></div></div><div class=\"sk-item\"><div class=\"sk-estimator sk-toggleable\"><input class=\"sk-toggleable__control sk-hidden--visually\" id=\"sk-estimator-id-9\" type=\"checkbox\" ><label for=\"sk-estimator-id-9\" class=\"sk-toggleable__label sk-toggleable__label-arrow\">DecisionTreeRegressor</label><div class=\"sk-toggleable__content\"><pre>DecisionTreeRegressor(random_state=42)</pre></div></div></div></div></div></div></div>"
      ],
      "text/plain": [
       "Pipeline(steps=[('preprocessor',\n",
       "                 ColumnTransformer(transformers=[('id',\n",
       "                                                  Pipeline(steps=[('target_encoder',\n",
       "                                                                   TargetEncoder())]),\n",
       "                                                  ['item_id']),\n",
       "                                                 ('cat_cols',\n",
       "                                                  Pipeline(steps=[('one_hot_encoder',\n",
       "                                                                   OneHotEncoder(drop='first',\n",
       "                                                                                 sparse=False))]),\n",
       "                                                  ['store_id', 'day_of_week']),\n",
       "                                                 ('num_cols',\n",
       "                                                  Pipeline(steps=[('minmax_scaler',\n",
       "                                                                   MinMaxScaler())]),\n",
       "                                                  Index([], dtype='object'))])),\n",
       "                ('dt_regressor', DecisionTreeRegressor(random_state=42))])"
      ]
     },
     "execution_count": 27,
     "metadata": {},
     "output_type": "execute_result"
    }
   ],
   "source": [
    "# Fit the SVR pipeline on the training data\n",
    "dt_pipe.fit(X_train, y_train)\n"
   ]
  },
  {
   "cell_type": "code",
   "execution_count": 28,
   "id": "285995c8",
   "metadata": {},
   "outputs": [],
   "source": [
    "# Make predictions on the training data\n",
    "y_train_preds = dt_pipe.predict(X_train)\n",
    "\n",
    "# Make predictions on the validation data\n",
    "y_val_preds = dt_pipe.predict(X_val)\n"
   ]
  },
  {
   "cell_type": "code",
   "execution_count": 29,
   "id": "6d015e7d",
   "metadata": {},
   "outputs": [
    {
     "name": "stdout",
     "output_type": "stream",
     "text": [
      "RMSE on Train dataset: 6.995175053862084\n"
     ]
    }
   ],
   "source": [
    "# Calculate Root Mean Squared Error (RMSE) on the training dataset\n",
    "train_rmse = mean_squared_error(y_train, y_train_preds, squared=False)\n",
    "\n",
    "print(\"RMSE on Train dataset:\", train_rmse)\n"
   ]
  },
  {
   "cell_type": "code",
   "execution_count": 30,
   "id": "280b28c8",
   "metadata": {},
   "outputs": [
    {
     "name": "stdout",
     "output_type": "stream",
     "text": [
      "RMSE on Validation dataset: 7.03882064799503\n"
     ]
    }
   ],
   "source": [
    "# Calculate Root Mean Squared Error (RMSE) on the validation dataset\n",
    "val_rmse = mean_squared_error(y_val, y_val_preds, squared=False) \n",
    "\n",
    "print(\"RMSE on Validation dataset:\", val_rmse)\n"
   ]
  },
  {
   "cell_type": "code",
   "execution_count": 31,
   "id": "eb1dd849",
   "metadata": {},
   "outputs": [],
   "source": [
    "# Define the full path to the joblib file, including the directory structure\n",
    "file_path = 'C:/Users/saumy/OneDrive/Desktop/Semester-3/AdvMLA/AdvMLA_AT2/src/models'"
   ]
  },
  {
   "cell_type": "code",
   "execution_count": 32,
   "id": "cc936456",
   "metadata": {},
   "outputs": [
    {
     "data": {
      "text/plain": [
       "['C:/Users/saumy/OneDrive/Desktop/Semester-3/AdvMLA/AdvMLA_AT2/src/models/dt_pipe.joblib']"
      ]
     },
     "execution_count": 32,
     "metadata": {},
     "output_type": "execute_result"
    }
   ],
   "source": [
    "from joblib import dump\n",
    "\n",
    "dump(dt_pipe, file_path + '/dt_pipe.joblib')"
   ]
  },
  {
   "cell_type": "code",
   "execution_count": 33,
   "id": "7fea4a24",
   "metadata": {},
   "outputs": [],
   "source": [
    "  # Import XGBRegressor\n",
    "from xgboost import XGBRegressor\n",
    "\n",
    "\n",
    "# Create an XGBoost pipeline\n",
    "xgb_pipe = Pipeline(\n",
    "    steps=[\n",
    "        ('preprocessor', preprocessor),\n",
    "        ('xgb_regressor', XGBRegressor(n_estimators=100, random_state=42))\n",
    "    ]\n",
    ")\n"
   ]
  },
  {
   "cell_type": "code",
   "execution_count": 34,
   "id": "0b7609aa",
   "metadata": {},
   "outputs": [
    {
     "name": "stderr",
     "output_type": "stream",
     "text": [
      "C:\\Users\\saumy\\anaconda3\\lib\\site-packages\\sklearn\\preprocessing\\_encoders.py:828: FutureWarning: `sparse` was renamed to `sparse_output` in version 1.2 and will be removed in 1.4. `sparse_output` is ignored unless you leave `sparse` to its default value.\n",
      "  warnings.warn(\n"
     ]
    },
    {
     "data": {
      "text/html": [
       "<style>#sk-container-id-2 {color: black;background-color: white;}#sk-container-id-2 pre{padding: 0;}#sk-container-id-2 div.sk-toggleable {background-color: white;}#sk-container-id-2 label.sk-toggleable__label {cursor: pointer;display: block;width: 100%;margin-bottom: 0;padding: 0.3em;box-sizing: border-box;text-align: center;}#sk-container-id-2 label.sk-toggleable__label-arrow:before {content: \"▸\";float: left;margin-right: 0.25em;color: #696969;}#sk-container-id-2 label.sk-toggleable__label-arrow:hover:before {color: black;}#sk-container-id-2 div.sk-estimator:hover label.sk-toggleable__label-arrow:before {color: black;}#sk-container-id-2 div.sk-toggleable__content {max-height: 0;max-width: 0;overflow: hidden;text-align: left;background-color: #f0f8ff;}#sk-container-id-2 div.sk-toggleable__content pre {margin: 0.2em;color: black;border-radius: 0.25em;background-color: #f0f8ff;}#sk-container-id-2 input.sk-toggleable__control:checked~div.sk-toggleable__content {max-height: 200px;max-width: 100%;overflow: auto;}#sk-container-id-2 input.sk-toggleable__control:checked~label.sk-toggleable__label-arrow:before {content: \"▾\";}#sk-container-id-2 div.sk-estimator input.sk-toggleable__control:checked~label.sk-toggleable__label {background-color: #d4ebff;}#sk-container-id-2 div.sk-label input.sk-toggleable__control:checked~label.sk-toggleable__label {background-color: #d4ebff;}#sk-container-id-2 input.sk-hidden--visually {border: 0;clip: rect(1px 1px 1px 1px);clip: rect(1px, 1px, 1px, 1px);height: 1px;margin: -1px;overflow: hidden;padding: 0;position: absolute;width: 1px;}#sk-container-id-2 div.sk-estimator {font-family: monospace;background-color: #f0f8ff;border: 1px dotted black;border-radius: 0.25em;box-sizing: border-box;margin-bottom: 0.5em;}#sk-container-id-2 div.sk-estimator:hover {background-color: #d4ebff;}#sk-container-id-2 div.sk-parallel-item::after {content: \"\";width: 100%;border-bottom: 1px solid gray;flex-grow: 1;}#sk-container-id-2 div.sk-label:hover label.sk-toggleable__label {background-color: #d4ebff;}#sk-container-id-2 div.sk-serial::before {content: \"\";position: absolute;border-left: 1px solid gray;box-sizing: border-box;top: 0;bottom: 0;left: 50%;z-index: 0;}#sk-container-id-2 div.sk-serial {display: flex;flex-direction: column;align-items: center;background-color: white;padding-right: 0.2em;padding-left: 0.2em;position: relative;}#sk-container-id-2 div.sk-item {position: relative;z-index: 1;}#sk-container-id-2 div.sk-parallel {display: flex;align-items: stretch;justify-content: center;background-color: white;position: relative;}#sk-container-id-2 div.sk-item::before, #sk-container-id-2 div.sk-parallel-item::before {content: \"\";position: absolute;border-left: 1px solid gray;box-sizing: border-box;top: 0;bottom: 0;left: 50%;z-index: -1;}#sk-container-id-2 div.sk-parallel-item {display: flex;flex-direction: column;z-index: 1;position: relative;background-color: white;}#sk-container-id-2 div.sk-parallel-item:first-child::after {align-self: flex-end;width: 50%;}#sk-container-id-2 div.sk-parallel-item:last-child::after {align-self: flex-start;width: 50%;}#sk-container-id-2 div.sk-parallel-item:only-child::after {width: 0;}#sk-container-id-2 div.sk-dashed-wrapped {border: 1px dashed gray;margin: 0 0.4em 0.5em 0.4em;box-sizing: border-box;padding-bottom: 0.4em;background-color: white;}#sk-container-id-2 div.sk-label label {font-family: monospace;font-weight: bold;display: inline-block;line-height: 1.2em;}#sk-container-id-2 div.sk-label-container {text-align: center;}#sk-container-id-2 div.sk-container {/* jupyter's `normalize.less` sets `[hidden] { display: none; }` but bootstrap.min.css set `[hidden] { display: none !important; }` so we also need the `!important` here to be able to override the default hidden behavior on the sphinx rendered scikit-learn.org. See: https://github.com/scikit-learn/scikit-learn/issues/21755 */display: inline-block !important;position: relative;}#sk-container-id-2 div.sk-text-repr-fallback {display: none;}</style><div id=\"sk-container-id-2\" class=\"sk-top-container\"><div class=\"sk-text-repr-fallback\"><pre>Pipeline(steps=[(&#x27;preprocessor&#x27;,\n",
       "                 ColumnTransformer(transformers=[(&#x27;id&#x27;,\n",
       "                                                  Pipeline(steps=[(&#x27;target_encoder&#x27;,\n",
       "                                                                   TargetEncoder())]),\n",
       "                                                  [&#x27;item_id&#x27;]),\n",
       "                                                 (&#x27;cat_cols&#x27;,\n",
       "                                                  Pipeline(steps=[(&#x27;one_hot_encoder&#x27;,\n",
       "                                                                   OneHotEncoder(drop=&#x27;first&#x27;,\n",
       "                                                                                 sparse=False))]),\n",
       "                                                  [&#x27;store_id&#x27;, &#x27;day_of_week&#x27;]),\n",
       "                                                 (&#x27;num_cols&#x27;,\n",
       "                                                  Pipeline(steps=[(&#x27;minmax_scaler&#x27;,\n",
       "                                                                   MinMaxScaler())]),\n",
       "                                                  Index([], dtype=&#x27;object&#x27;))])),\n",
       "                (&#x27;x...\n",
       "                              feature_types=None, gamma=None, gpu_id=None,\n",
       "                              grow_policy=None, importance_type=None,\n",
       "                              interaction_constraints=None, learning_rate=None,\n",
       "                              max_bin=None, max_cat_threshold=None,\n",
       "                              max_cat_to_onehot=None, max_delta_step=None,\n",
       "                              max_depth=None, max_leaves=None,\n",
       "                              min_child_weight=None, missing=nan,\n",
       "                              monotone_constraints=None, n_estimators=100,\n",
       "                              n_jobs=None, num_parallel_tree=None,\n",
       "                              predictor=None, random_state=42, ...))])</pre><b>In a Jupyter environment, please rerun this cell to show the HTML representation or trust the notebook. <br />On GitHub, the HTML representation is unable to render, please try loading this page with nbviewer.org.</b></div><div class=\"sk-container\" hidden><div class=\"sk-item sk-dashed-wrapped\"><div class=\"sk-label-container\"><div class=\"sk-label sk-toggleable\"><input class=\"sk-toggleable__control sk-hidden--visually\" id=\"sk-estimator-id-10\" type=\"checkbox\" ><label for=\"sk-estimator-id-10\" class=\"sk-toggleable__label sk-toggleable__label-arrow\">Pipeline</label><div class=\"sk-toggleable__content\"><pre>Pipeline(steps=[(&#x27;preprocessor&#x27;,\n",
       "                 ColumnTransformer(transformers=[(&#x27;id&#x27;,\n",
       "                                                  Pipeline(steps=[(&#x27;target_encoder&#x27;,\n",
       "                                                                   TargetEncoder())]),\n",
       "                                                  [&#x27;item_id&#x27;]),\n",
       "                                                 (&#x27;cat_cols&#x27;,\n",
       "                                                  Pipeline(steps=[(&#x27;one_hot_encoder&#x27;,\n",
       "                                                                   OneHotEncoder(drop=&#x27;first&#x27;,\n",
       "                                                                                 sparse=False))]),\n",
       "                                                  [&#x27;store_id&#x27;, &#x27;day_of_week&#x27;]),\n",
       "                                                 (&#x27;num_cols&#x27;,\n",
       "                                                  Pipeline(steps=[(&#x27;minmax_scaler&#x27;,\n",
       "                                                                   MinMaxScaler())]),\n",
       "                                                  Index([], dtype=&#x27;object&#x27;))])),\n",
       "                (&#x27;x...\n",
       "                              feature_types=None, gamma=None, gpu_id=None,\n",
       "                              grow_policy=None, importance_type=None,\n",
       "                              interaction_constraints=None, learning_rate=None,\n",
       "                              max_bin=None, max_cat_threshold=None,\n",
       "                              max_cat_to_onehot=None, max_delta_step=None,\n",
       "                              max_depth=None, max_leaves=None,\n",
       "                              min_child_weight=None, missing=nan,\n",
       "                              monotone_constraints=None, n_estimators=100,\n",
       "                              n_jobs=None, num_parallel_tree=None,\n",
       "                              predictor=None, random_state=42, ...))])</pre></div></div></div><div class=\"sk-serial\"><div class=\"sk-item sk-dashed-wrapped\"><div class=\"sk-label-container\"><div class=\"sk-label sk-toggleable\"><input class=\"sk-toggleable__control sk-hidden--visually\" id=\"sk-estimator-id-11\" type=\"checkbox\" ><label for=\"sk-estimator-id-11\" class=\"sk-toggleable__label sk-toggleable__label-arrow\">preprocessor: ColumnTransformer</label><div class=\"sk-toggleable__content\"><pre>ColumnTransformer(transformers=[(&#x27;id&#x27;,\n",
       "                                 Pipeline(steps=[(&#x27;target_encoder&#x27;,\n",
       "                                                  TargetEncoder())]),\n",
       "                                 [&#x27;item_id&#x27;]),\n",
       "                                (&#x27;cat_cols&#x27;,\n",
       "                                 Pipeline(steps=[(&#x27;one_hot_encoder&#x27;,\n",
       "                                                  OneHotEncoder(drop=&#x27;first&#x27;,\n",
       "                                                                sparse=False))]),\n",
       "                                 [&#x27;store_id&#x27;, &#x27;day_of_week&#x27;]),\n",
       "                                (&#x27;num_cols&#x27;,\n",
       "                                 Pipeline(steps=[(&#x27;minmax_scaler&#x27;,\n",
       "                                                  MinMaxScaler())]),\n",
       "                                 Index([], dtype=&#x27;object&#x27;))])</pre></div></div></div><div class=\"sk-parallel\"><div class=\"sk-parallel-item\"><div class=\"sk-item\"><div class=\"sk-label-container\"><div class=\"sk-label sk-toggleable\"><input class=\"sk-toggleable__control sk-hidden--visually\" id=\"sk-estimator-id-12\" type=\"checkbox\" ><label for=\"sk-estimator-id-12\" class=\"sk-toggleable__label sk-toggleable__label-arrow\">id</label><div class=\"sk-toggleable__content\"><pre>[&#x27;item_id&#x27;]</pre></div></div></div><div class=\"sk-serial\"><div class=\"sk-item\"><div class=\"sk-serial\"><div class=\"sk-item\"><div class=\"sk-estimator sk-toggleable\"><input class=\"sk-toggleable__control sk-hidden--visually\" id=\"sk-estimator-id-13\" type=\"checkbox\" ><label for=\"sk-estimator-id-13\" class=\"sk-toggleable__label sk-toggleable__label-arrow\">TargetEncoder</label><div class=\"sk-toggleable__content\"><pre>TargetEncoder()</pre></div></div></div></div></div></div></div></div><div class=\"sk-parallel-item\"><div class=\"sk-item\"><div class=\"sk-label-container\"><div class=\"sk-label sk-toggleable\"><input class=\"sk-toggleable__control sk-hidden--visually\" id=\"sk-estimator-id-14\" type=\"checkbox\" ><label for=\"sk-estimator-id-14\" class=\"sk-toggleable__label sk-toggleable__label-arrow\">cat_cols</label><div class=\"sk-toggleable__content\"><pre>[&#x27;store_id&#x27;, &#x27;day_of_week&#x27;]</pre></div></div></div><div class=\"sk-serial\"><div class=\"sk-item\"><div class=\"sk-serial\"><div class=\"sk-item\"><div class=\"sk-estimator sk-toggleable\"><input class=\"sk-toggleable__control sk-hidden--visually\" id=\"sk-estimator-id-15\" type=\"checkbox\" ><label for=\"sk-estimator-id-15\" class=\"sk-toggleable__label sk-toggleable__label-arrow\">OneHotEncoder</label><div class=\"sk-toggleable__content\"><pre>OneHotEncoder(drop=&#x27;first&#x27;, sparse=False)</pre></div></div></div></div></div></div></div></div><div class=\"sk-parallel-item\"><div class=\"sk-item\"><div class=\"sk-label-container\"><div class=\"sk-label sk-toggleable\"><input class=\"sk-toggleable__control sk-hidden--visually\" id=\"sk-estimator-id-16\" type=\"checkbox\" ><label for=\"sk-estimator-id-16\" class=\"sk-toggleable__label sk-toggleable__label-arrow\">num_cols</label><div class=\"sk-toggleable__content\"><pre>Index([], dtype=&#x27;object&#x27;)</pre></div></div></div><div class=\"sk-serial\"><div class=\"sk-item\"><div class=\"sk-serial\"><div class=\"sk-item\"><div class=\"sk-estimator sk-toggleable\"><input class=\"sk-toggleable__control sk-hidden--visually\" id=\"sk-estimator-id-17\" type=\"checkbox\" ><label for=\"sk-estimator-id-17\" class=\"sk-toggleable__label sk-toggleable__label-arrow\">MinMaxScaler</label><div class=\"sk-toggleable__content\"><pre>MinMaxScaler()</pre></div></div></div></div></div></div></div></div></div></div><div class=\"sk-item\"><div class=\"sk-estimator sk-toggleable\"><input class=\"sk-toggleable__control sk-hidden--visually\" id=\"sk-estimator-id-18\" type=\"checkbox\" ><label for=\"sk-estimator-id-18\" class=\"sk-toggleable__label sk-toggleable__label-arrow\">XGBRegressor</label><div class=\"sk-toggleable__content\"><pre>XGBRegressor(base_score=None, booster=None, callbacks=None,\n",
       "             colsample_bylevel=None, colsample_bynode=None,\n",
       "             colsample_bytree=None, early_stopping_rounds=None,\n",
       "             enable_categorical=False, eval_metric=None, feature_types=None,\n",
       "             gamma=None, gpu_id=None, grow_policy=None, importance_type=None,\n",
       "             interaction_constraints=None, learning_rate=None, max_bin=None,\n",
       "             max_cat_threshold=None, max_cat_to_onehot=None,\n",
       "             max_delta_step=None, max_depth=None, max_leaves=None,\n",
       "             min_child_weight=None, missing=nan, monotone_constraints=None,\n",
       "             n_estimators=100, n_jobs=None, num_parallel_tree=None,\n",
       "             predictor=None, random_state=42, ...)</pre></div></div></div></div></div></div></div>"
      ],
      "text/plain": [
       "Pipeline(steps=[('preprocessor',\n",
       "                 ColumnTransformer(transformers=[('id',\n",
       "                                                  Pipeline(steps=[('target_encoder',\n",
       "                                                                   TargetEncoder())]),\n",
       "                                                  ['item_id']),\n",
       "                                                 ('cat_cols',\n",
       "                                                  Pipeline(steps=[('one_hot_encoder',\n",
       "                                                                   OneHotEncoder(drop='first',\n",
       "                                                                                 sparse=False))]),\n",
       "                                                  ['store_id', 'day_of_week']),\n",
       "                                                 ('num_cols',\n",
       "                                                  Pipeline(steps=[('minmax_scaler',\n",
       "                                                                   MinMaxScaler())]),\n",
       "                                                  Index([], dtype='object'))])),\n",
       "                ('x...\n",
       "                              feature_types=None, gamma=None, gpu_id=None,\n",
       "                              grow_policy=None, importance_type=None,\n",
       "                              interaction_constraints=None, learning_rate=None,\n",
       "                              max_bin=None, max_cat_threshold=None,\n",
       "                              max_cat_to_onehot=None, max_delta_step=None,\n",
       "                              max_depth=None, max_leaves=None,\n",
       "                              min_child_weight=None, missing=nan,\n",
       "                              monotone_constraints=None, n_estimators=100,\n",
       "                              n_jobs=None, num_parallel_tree=None,\n",
       "                              predictor=None, random_state=42, ...))])"
      ]
     },
     "execution_count": 34,
     "metadata": {},
     "output_type": "execute_result"
    }
   ],
   "source": [
    "# Fit the XGBoost pipeline on the training data\n",
    "xgb_pipe.fit(X_train, y_train)"
   ]
  },
  {
   "cell_type": "code",
   "execution_count": 35,
   "id": "4ba3dcb6",
   "metadata": {},
   "outputs": [],
   "source": [
    "# Make predictions on the training data\n",
    "y_train_preds = xgb_pipe.predict(X_train)\n",
    "\n",
    "# Make predictions on the validation data\n",
    "y_val_preds = xgb_pipe.predict(X_val)"
   ]
  },
  {
   "cell_type": "code",
   "execution_count": 36,
   "id": "6bea20ef",
   "metadata": {},
   "outputs": [
    {
     "name": "stdout",
     "output_type": "stream",
     "text": [
      "RMSE on Train dataset: 7.587382795996646\n"
     ]
    }
   ],
   "source": [
    "from sklearn.metrics import mean_squared_error\n",
    "import numpy as np\n",
    "\n",
    "# Calculate Root Mean Squared Error (RMSE) on the training dataset\n",
    "train_rmse = mean_squared_error(y_train, y_train_preds, squared=False) \n",
    "\n",
    "print(\"RMSE on Train dataset:\", train_rmse)\n"
   ]
  },
  {
   "cell_type": "code",
   "execution_count": 37,
   "id": "7bc90279",
   "metadata": {},
   "outputs": [
    {
     "name": "stdout",
     "output_type": "stream",
     "text": [
      "RMSE on Validation dataset: 7.601430454142383\n"
     ]
    }
   ],
   "source": [
    "# Calculate Root Mean Squared Error (RMSE) on the validation dataset\n",
    "val_rmse = mean_squared_error(y_val, y_val_preds, squared=False) \n",
    "\n",
    "print(\"RMSE on Validation dataset:\", val_rmse)\n"
   ]
  },
  {
   "cell_type": "code",
   "execution_count": 38,
   "id": "526ffb77",
   "metadata": {},
   "outputs": [
    {
     "data": {
      "text/plain": [
       "['C:/Users/saumy/OneDrive/Desktop/Semester-3/AdvMLA/AdvMLA_AT2/src/models/xgb_pipe.joblib']"
      ]
     },
     "execution_count": 38,
     "metadata": {},
     "output_type": "execute_result"
    }
   ],
   "source": [
    "from joblib import dump\n",
    "\n",
    "dump(xgb_pipe,  file_path + '/xgb_pipe.joblib')"
   ]
  },
  {
   "cell_type": "code",
   "execution_count": 39,
   "id": "d99c2aea",
   "metadata": {},
   "outputs": [],
   "source": [
    "# Import LGBMRegressor\n",
    "from lightgbm import LGBMRegressor\n",
    "\n",
    "\n",
    "# Create an LGBMRegressor pipeline\n",
    "lgbm_pipe = Pipeline(\n",
    "    steps=[\n",
    "        ('preprocessor', preprocessor),\n",
    "        ('lgbm_regressor', LGBMRegressor(n_estimators=100, random_state=42))\n",
    "    ]\n",
    ")\n"
   ]
  },
  {
   "cell_type": "code",
   "execution_count": 40,
   "id": "1ffc82d8",
   "metadata": {},
   "outputs": [
    {
     "name": "stderr",
     "output_type": "stream",
     "text": [
      "C:\\Users\\saumy\\anaconda3\\lib\\site-packages\\sklearn\\preprocessing\\_encoders.py:828: FutureWarning: `sparse` was renamed to `sparse_output` in version 1.2 and will be removed in 1.4. `sparse_output` is ignored unless you leave `sparse` to its default value.\n",
      "  warnings.warn(\n"
     ]
    },
    {
     "name": "stdout",
     "output_type": "stream",
     "text": [
      "[LightGBM] [Warning] Auto-choosing row-wise multi-threading, the overhead of testing was 0.180670 seconds.\n",
      "You can set `force_row_wise=true` to remove the overhead.\n",
      "And if memory is not enough, you can set `force_col_wise=true`.\n",
      "[LightGBM] [Info] Total Bins 285\n",
      "[LightGBM] [Info] Number of data points in the train set: 32974935, number of used features: 16\n",
      "[LightGBM] [Info] Start training from score 3.031773\n"
     ]
    },
    {
     "data": {
      "text/html": [
       "<style>#sk-container-id-3 {color: black;background-color: white;}#sk-container-id-3 pre{padding: 0;}#sk-container-id-3 div.sk-toggleable {background-color: white;}#sk-container-id-3 label.sk-toggleable__label {cursor: pointer;display: block;width: 100%;margin-bottom: 0;padding: 0.3em;box-sizing: border-box;text-align: center;}#sk-container-id-3 label.sk-toggleable__label-arrow:before {content: \"▸\";float: left;margin-right: 0.25em;color: #696969;}#sk-container-id-3 label.sk-toggleable__label-arrow:hover:before {color: black;}#sk-container-id-3 div.sk-estimator:hover label.sk-toggleable__label-arrow:before {color: black;}#sk-container-id-3 div.sk-toggleable__content {max-height: 0;max-width: 0;overflow: hidden;text-align: left;background-color: #f0f8ff;}#sk-container-id-3 div.sk-toggleable__content pre {margin: 0.2em;color: black;border-radius: 0.25em;background-color: #f0f8ff;}#sk-container-id-3 input.sk-toggleable__control:checked~div.sk-toggleable__content {max-height: 200px;max-width: 100%;overflow: auto;}#sk-container-id-3 input.sk-toggleable__control:checked~label.sk-toggleable__label-arrow:before {content: \"▾\";}#sk-container-id-3 div.sk-estimator input.sk-toggleable__control:checked~label.sk-toggleable__label {background-color: #d4ebff;}#sk-container-id-3 div.sk-label input.sk-toggleable__control:checked~label.sk-toggleable__label {background-color: #d4ebff;}#sk-container-id-3 input.sk-hidden--visually {border: 0;clip: rect(1px 1px 1px 1px);clip: rect(1px, 1px, 1px, 1px);height: 1px;margin: -1px;overflow: hidden;padding: 0;position: absolute;width: 1px;}#sk-container-id-3 div.sk-estimator {font-family: monospace;background-color: #f0f8ff;border: 1px dotted black;border-radius: 0.25em;box-sizing: border-box;margin-bottom: 0.5em;}#sk-container-id-3 div.sk-estimator:hover {background-color: #d4ebff;}#sk-container-id-3 div.sk-parallel-item::after {content: \"\";width: 100%;border-bottom: 1px solid gray;flex-grow: 1;}#sk-container-id-3 div.sk-label:hover label.sk-toggleable__label {background-color: #d4ebff;}#sk-container-id-3 div.sk-serial::before {content: \"\";position: absolute;border-left: 1px solid gray;box-sizing: border-box;top: 0;bottom: 0;left: 50%;z-index: 0;}#sk-container-id-3 div.sk-serial {display: flex;flex-direction: column;align-items: center;background-color: white;padding-right: 0.2em;padding-left: 0.2em;position: relative;}#sk-container-id-3 div.sk-item {position: relative;z-index: 1;}#sk-container-id-3 div.sk-parallel {display: flex;align-items: stretch;justify-content: center;background-color: white;position: relative;}#sk-container-id-3 div.sk-item::before, #sk-container-id-3 div.sk-parallel-item::before {content: \"\";position: absolute;border-left: 1px solid gray;box-sizing: border-box;top: 0;bottom: 0;left: 50%;z-index: -1;}#sk-container-id-3 div.sk-parallel-item {display: flex;flex-direction: column;z-index: 1;position: relative;background-color: white;}#sk-container-id-3 div.sk-parallel-item:first-child::after {align-self: flex-end;width: 50%;}#sk-container-id-3 div.sk-parallel-item:last-child::after {align-self: flex-start;width: 50%;}#sk-container-id-3 div.sk-parallel-item:only-child::after {width: 0;}#sk-container-id-3 div.sk-dashed-wrapped {border: 1px dashed gray;margin: 0 0.4em 0.5em 0.4em;box-sizing: border-box;padding-bottom: 0.4em;background-color: white;}#sk-container-id-3 div.sk-label label {font-family: monospace;font-weight: bold;display: inline-block;line-height: 1.2em;}#sk-container-id-3 div.sk-label-container {text-align: center;}#sk-container-id-3 div.sk-container {/* jupyter's `normalize.less` sets `[hidden] { display: none; }` but bootstrap.min.css set `[hidden] { display: none !important; }` so we also need the `!important` here to be able to override the default hidden behavior on the sphinx rendered scikit-learn.org. See: https://github.com/scikit-learn/scikit-learn/issues/21755 */display: inline-block !important;position: relative;}#sk-container-id-3 div.sk-text-repr-fallback {display: none;}</style><div id=\"sk-container-id-3\" class=\"sk-top-container\"><div class=\"sk-text-repr-fallback\"><pre>Pipeline(steps=[(&#x27;preprocessor&#x27;,\n",
       "                 ColumnTransformer(transformers=[(&#x27;id&#x27;,\n",
       "                                                  Pipeline(steps=[(&#x27;target_encoder&#x27;,\n",
       "                                                                   TargetEncoder())]),\n",
       "                                                  [&#x27;item_id&#x27;]),\n",
       "                                                 (&#x27;cat_cols&#x27;,\n",
       "                                                  Pipeline(steps=[(&#x27;one_hot_encoder&#x27;,\n",
       "                                                                   OneHotEncoder(drop=&#x27;first&#x27;,\n",
       "                                                                                 sparse=False))]),\n",
       "                                                  [&#x27;store_id&#x27;, &#x27;day_of_week&#x27;]),\n",
       "                                                 (&#x27;num_cols&#x27;,\n",
       "                                                  Pipeline(steps=[(&#x27;minmax_scaler&#x27;,\n",
       "                                                                   MinMaxScaler())]),\n",
       "                                                  Index([], dtype=&#x27;object&#x27;))])),\n",
       "                (&#x27;lgbm_regressor&#x27;, LGBMRegressor(random_state=42))])</pre><b>In a Jupyter environment, please rerun this cell to show the HTML representation or trust the notebook. <br />On GitHub, the HTML representation is unable to render, please try loading this page with nbviewer.org.</b></div><div class=\"sk-container\" hidden><div class=\"sk-item sk-dashed-wrapped\"><div class=\"sk-label-container\"><div class=\"sk-label sk-toggleable\"><input class=\"sk-toggleable__control sk-hidden--visually\" id=\"sk-estimator-id-19\" type=\"checkbox\" ><label for=\"sk-estimator-id-19\" class=\"sk-toggleable__label sk-toggleable__label-arrow\">Pipeline</label><div class=\"sk-toggleable__content\"><pre>Pipeline(steps=[(&#x27;preprocessor&#x27;,\n",
       "                 ColumnTransformer(transformers=[(&#x27;id&#x27;,\n",
       "                                                  Pipeline(steps=[(&#x27;target_encoder&#x27;,\n",
       "                                                                   TargetEncoder())]),\n",
       "                                                  [&#x27;item_id&#x27;]),\n",
       "                                                 (&#x27;cat_cols&#x27;,\n",
       "                                                  Pipeline(steps=[(&#x27;one_hot_encoder&#x27;,\n",
       "                                                                   OneHotEncoder(drop=&#x27;first&#x27;,\n",
       "                                                                                 sparse=False))]),\n",
       "                                                  [&#x27;store_id&#x27;, &#x27;day_of_week&#x27;]),\n",
       "                                                 (&#x27;num_cols&#x27;,\n",
       "                                                  Pipeline(steps=[(&#x27;minmax_scaler&#x27;,\n",
       "                                                                   MinMaxScaler())]),\n",
       "                                                  Index([], dtype=&#x27;object&#x27;))])),\n",
       "                (&#x27;lgbm_regressor&#x27;, LGBMRegressor(random_state=42))])</pre></div></div></div><div class=\"sk-serial\"><div class=\"sk-item sk-dashed-wrapped\"><div class=\"sk-label-container\"><div class=\"sk-label sk-toggleable\"><input class=\"sk-toggleable__control sk-hidden--visually\" id=\"sk-estimator-id-20\" type=\"checkbox\" ><label for=\"sk-estimator-id-20\" class=\"sk-toggleable__label sk-toggleable__label-arrow\">preprocessor: ColumnTransformer</label><div class=\"sk-toggleable__content\"><pre>ColumnTransformer(transformers=[(&#x27;id&#x27;,\n",
       "                                 Pipeline(steps=[(&#x27;target_encoder&#x27;,\n",
       "                                                  TargetEncoder())]),\n",
       "                                 [&#x27;item_id&#x27;]),\n",
       "                                (&#x27;cat_cols&#x27;,\n",
       "                                 Pipeline(steps=[(&#x27;one_hot_encoder&#x27;,\n",
       "                                                  OneHotEncoder(drop=&#x27;first&#x27;,\n",
       "                                                                sparse=False))]),\n",
       "                                 [&#x27;store_id&#x27;, &#x27;day_of_week&#x27;]),\n",
       "                                (&#x27;num_cols&#x27;,\n",
       "                                 Pipeline(steps=[(&#x27;minmax_scaler&#x27;,\n",
       "                                                  MinMaxScaler())]),\n",
       "                                 Index([], dtype=&#x27;object&#x27;))])</pre></div></div></div><div class=\"sk-parallel\"><div class=\"sk-parallel-item\"><div class=\"sk-item\"><div class=\"sk-label-container\"><div class=\"sk-label sk-toggleable\"><input class=\"sk-toggleable__control sk-hidden--visually\" id=\"sk-estimator-id-21\" type=\"checkbox\" ><label for=\"sk-estimator-id-21\" class=\"sk-toggleable__label sk-toggleable__label-arrow\">id</label><div class=\"sk-toggleable__content\"><pre>[&#x27;item_id&#x27;]</pre></div></div></div><div class=\"sk-serial\"><div class=\"sk-item\"><div class=\"sk-serial\"><div class=\"sk-item\"><div class=\"sk-estimator sk-toggleable\"><input class=\"sk-toggleable__control sk-hidden--visually\" id=\"sk-estimator-id-22\" type=\"checkbox\" ><label for=\"sk-estimator-id-22\" class=\"sk-toggleable__label sk-toggleable__label-arrow\">TargetEncoder</label><div class=\"sk-toggleable__content\"><pre>TargetEncoder()</pre></div></div></div></div></div></div></div></div><div class=\"sk-parallel-item\"><div class=\"sk-item\"><div class=\"sk-label-container\"><div class=\"sk-label sk-toggleable\"><input class=\"sk-toggleable__control sk-hidden--visually\" id=\"sk-estimator-id-23\" type=\"checkbox\" ><label for=\"sk-estimator-id-23\" class=\"sk-toggleable__label sk-toggleable__label-arrow\">cat_cols</label><div class=\"sk-toggleable__content\"><pre>[&#x27;store_id&#x27;, &#x27;day_of_week&#x27;]</pre></div></div></div><div class=\"sk-serial\"><div class=\"sk-item\"><div class=\"sk-serial\"><div class=\"sk-item\"><div class=\"sk-estimator sk-toggleable\"><input class=\"sk-toggleable__control sk-hidden--visually\" id=\"sk-estimator-id-24\" type=\"checkbox\" ><label for=\"sk-estimator-id-24\" class=\"sk-toggleable__label sk-toggleable__label-arrow\">OneHotEncoder</label><div class=\"sk-toggleable__content\"><pre>OneHotEncoder(drop=&#x27;first&#x27;, sparse=False)</pre></div></div></div></div></div></div></div></div><div class=\"sk-parallel-item\"><div class=\"sk-item\"><div class=\"sk-label-container\"><div class=\"sk-label sk-toggleable\"><input class=\"sk-toggleable__control sk-hidden--visually\" id=\"sk-estimator-id-25\" type=\"checkbox\" ><label for=\"sk-estimator-id-25\" class=\"sk-toggleable__label sk-toggleable__label-arrow\">num_cols</label><div class=\"sk-toggleable__content\"><pre>Index([], dtype=&#x27;object&#x27;)</pre></div></div></div><div class=\"sk-serial\"><div class=\"sk-item\"><div class=\"sk-serial\"><div class=\"sk-item\"><div class=\"sk-estimator sk-toggleable\"><input class=\"sk-toggleable__control sk-hidden--visually\" id=\"sk-estimator-id-26\" type=\"checkbox\" ><label for=\"sk-estimator-id-26\" class=\"sk-toggleable__label sk-toggleable__label-arrow\">MinMaxScaler</label><div class=\"sk-toggleable__content\"><pre>MinMaxScaler()</pre></div></div></div></div></div></div></div></div></div></div><div class=\"sk-item\"><div class=\"sk-estimator sk-toggleable\"><input class=\"sk-toggleable__control sk-hidden--visually\" id=\"sk-estimator-id-27\" type=\"checkbox\" ><label for=\"sk-estimator-id-27\" class=\"sk-toggleable__label sk-toggleable__label-arrow\">LGBMRegressor</label><div class=\"sk-toggleable__content\"><pre>LGBMRegressor(random_state=42)</pre></div></div></div></div></div></div></div>"
      ],
      "text/plain": [
       "Pipeline(steps=[('preprocessor',\n",
       "                 ColumnTransformer(transformers=[('id',\n",
       "                                                  Pipeline(steps=[('target_encoder',\n",
       "                                                                   TargetEncoder())]),\n",
       "                                                  ['item_id']),\n",
       "                                                 ('cat_cols',\n",
       "                                                  Pipeline(steps=[('one_hot_encoder',\n",
       "                                                                   OneHotEncoder(drop='first',\n",
       "                                                                                 sparse=False))]),\n",
       "                                                  ['store_id', 'day_of_week']),\n",
       "                                                 ('num_cols',\n",
       "                                                  Pipeline(steps=[('minmax_scaler',\n",
       "                                                                   MinMaxScaler())]),\n",
       "                                                  Index([], dtype='object'))])),\n",
       "                ('lgbm_regressor', LGBMRegressor(random_state=42))])"
      ]
     },
     "execution_count": 40,
     "metadata": {},
     "output_type": "execute_result"
    }
   ],
   "source": [
    "# Fit the LGBMRegressor pipeline on the training data\n",
    "lgbm_pipe.fit(X_train, y_train)\n"
   ]
  },
  {
   "cell_type": "code",
   "execution_count": 41,
   "id": "03f6736c",
   "metadata": {},
   "outputs": [],
   "source": [
    "# Make predictions on the training data\n",
    "y_train_preds = lgbm_pipe.predict(X_train)\n",
    "\n",
    "# Make predictions on the validation data\n",
    "y_val_preds = lgbm_pipe.predict(X_val)"
   ]
  },
  {
   "cell_type": "code",
   "execution_count": 42,
   "id": "d05d7483",
   "metadata": {},
   "outputs": [
    {
     "name": "stdout",
     "output_type": "stream",
     "text": [
      "RMSE on Train dataset: 7.5552161879877\n"
     ]
    }
   ],
   "source": [
    "# Calculate Root Mean Squared Error (RMSE) on the training dataset\n",
    "train_rmse_lgbm = mean_squared_error(y_train, y_train_preds, squared=False) \n",
    "\n",
    "print(\"RMSE on Train dataset:\", train_rmse_lgbm)"
   ]
  },
  {
   "cell_type": "code",
   "execution_count": 43,
   "id": "2ce2fefa",
   "metadata": {},
   "outputs": [
    {
     "name": "stdout",
     "output_type": "stream",
     "text": [
      "RMSE on Validation dataset: 7.568216781626595\n"
     ]
    }
   ],
   "source": [
    "# Calculate Root Mean Squared Error (RMSE) on the validation dataset\n",
    "val_rmse_lgbm = mean_squared_error(y_val, y_val_preds, squared=False) \n",
    "\n",
    "print(\"RMSE on Validation dataset:\", val_rmse_lgbm)"
   ]
  },
  {
   "cell_type": "code",
   "execution_count": 44,
   "id": "d048cb81",
   "metadata": {},
   "outputs": [
    {
     "data": {
      "text/plain": [
       "['C:/Users/saumy/OneDrive/Desktop/Semester-3/AdvMLA/AdvMLA_AT2/src/models/lgbm_pipe.joblib']"
      ]
     },
     "execution_count": 44,
     "metadata": {},
     "output_type": "execute_result"
    }
   ],
   "source": [
    "from joblib import dump\n",
    "\n",
    "dump(lgbm_pipe, file_path + '/lgbm_pipe.joblib')"
   ]
  }
 ],
 "metadata": {
  "colab": {
   "provenance": []
  },
  "kernelspec": {
   "display_name": "Python 3 (ipykernel)",
   "language": "python",
   "name": "python3"
  },
  "language_info": {
   "codemirror_mode": {
    "name": "ipython",
    "version": 3
   },
   "file_extension": ".py",
   "mimetype": "text/x-python",
   "name": "python",
   "nbconvert_exporter": "python",
   "pygments_lexer": "ipython3",
   "version": "3.10.9"
  }
 },
 "nbformat": 4,
 "nbformat_minor": 5
}
